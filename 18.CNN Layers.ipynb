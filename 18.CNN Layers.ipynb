{
 "cells": [
  {
   "cell_type": "code",
   "execution_count": 1,
   "id": "ad32a170",
   "metadata": {},
   "outputs": [],
   "source": [
    "###parameter(形数)在函数中定义使用，可以看成占位符\n",
    "###argument（实参）是当函数被调用时传递给函数的实际值"
   ]
  },
  {
   "cell_type": "code",
   "execution_count": 2,
   "id": "68d0a936",
   "metadata": {},
   "outputs": [],
   "source": [
    "import torch\n",
    "import torch.nn as nn\n",
    "class Network(nn.Module):\n",
    "    def __init__(self):\n",
    "        super(Network,self).__init__()                   \n",
    "        self.conv1 = nn.Conv2d(in_channels=1, out_channels=6, kernel_size=5)      \n",
    "        self.conv2 = nn.Conv2d(in_channels=6, out_channels=12, kernel_size=5)     \n",
    "        \n",
    "        self.fc1 = nn.Linear(in_features=12*4*4, out_features=120)               #在神经网络模块类中，pytorch可以跟踪每一层的权重张量\n",
    "        self.fc2 = nn.Linear(in_features=120, out_features= 60)                  #由于我们扩展了神经网络模块类，我们自动 继承 了这个功能\n",
    "        self.out = nn.Linear(in_features=60, out_features=10)                    #in_channels......这类为parameter(形数)，1、6......这类为argument（实参）\n",
    "        \n",
    "        \n",
    "        \n",
    "    def forward(self,t):        \n",
    "        # implement forward pass\n",
    "        return t"
   ]
  },
  {
   "cell_type": "code",
   "execution_count": 3,
   "id": "37dbf3e0",
   "metadata": {},
   "outputs": [],
   "source": [
    "###为了构建一个CNN层，我们需要手动选择一些参数，内核大小，输出通道大小，输出特征大小\n",
    "\n",
    "#kernel_size     Set the filter size\n",
    "\n",
    "#out_channels     Set the number of filters    \n",
    "\n",
    "#注释：这些输出通道也称为feature maps，如果我们处理的是线性层，我们不称他们为feature maps，因为输出是一个一阶张量，我们把它称作features，因此我们有out_features\n",
    "\n",
    "#out_features    Set the size of the output tensor "
   ]
  },
  {
   "cell_type": "code",
   "execution_count": null,
   "id": "1a079a24",
   "metadata": {},
   "outputs": [],
   "source": [
    "###依赖于数据的超参数（hyperparameter）是 in_channels=1  和  out_features=10 即第一个卷积层的输入通道以及最后一个线性层的输出特征\n",
    "\n",
    "\n",
    "#第一个卷积层的输入通道依赖于构成训练集的图像内部的彩色通道数量。\n",
    "\n",
    "#输出层的输出特征依赖于我们训练集中的类的数量\n",
    "\n",
    "\n",
    "#当我们从一个卷积层转换到一个线性层时，我们必须使张量变平\n",
    "\n",
    "#为什么是12*4*4  后面会学到池化(pool)操作，现在不理解没关系，但是要记住卷积核计算的输出公式 公式为：[ (原图片尺寸 -卷积核尺寸)/ 步长 ] + 1\n",
    "#[(28-5)/1]+1\n",
    "#（池化窗口一般是2*2，也就是将图片压缩为12*12*6,通道数不变，但是长宽都变一半（注意，这时作者还没有定义前向函数（forward）））\n",
    "#在经历一个池化窗口为2*2的操作，就变成了4*4*12，也就是第一个全连接层的12*4*4"
   ]
  }
 ],
 "metadata": {
  "kernelspec": {
   "display_name": "Python [conda env:py38] *",
   "language": "python",
   "name": "conda-env-py38-py"
  },
  "language_info": {
   "codemirror_mode": {
    "name": "ipython",
    "version": 3
   },
   "file_extension": ".py",
   "mimetype": "text/x-python",
   "name": "python",
   "nbconvert_exporter": "python",
   "pygments_lexer": "ipython3",
   "version": "3.8.10"
  }
 },
 "nbformat": 4,
 "nbformat_minor": 5
}
