{
 "cells": [
  {
   "cell_type": "code",
   "execution_count": 1,
   "id": "66d62a63",
   "metadata": {},
   "outputs": [],
   "source": [
    "#我们不直接调用前向方法，而是调用网络实例\n",
    "#在训练地过程中，反向传播发生在前向传播之后\n",
    "\n",
    "#Python中的self\n",
    "\n",
    "#在Python中的类Class的代码中，常看到函数中的第一个参数，都是self。以及Class中的函数里面，访问对应的变量（读取或者写入），以及调用对应的函数时，经常有以下代码：\n",
    "\n",
    "# ①self.valueName\n",
    "# valueName：表示self对象，即实例的变量。与其他的，Class的变量，全局的变量，局部的变量，是相对应的。\n",
    "\n",
    "# ②self.function()\n",
    "# function：表示是调用的是self对象，即实例的函数。与其他的全局的函数，是相对应的。\n",
    "\n",
    "# Python中为何要有self\n",
    "# 在类的代码（函数）中，需要访问当前的实例中的变量和函数的，即，访问Instance中的：\n",
    "\n",
    "# 对应的变量（property)：Instance.ProperyNam，去读取之前的值和写入新的值\n",
    "\n",
    "# 调用对应函数（function）：Instance.function()，即执行对应的动作\n",
    "\n",
    "# -> 而需要访问实例的变量和调用实例的函数，当然需要对应的实例Instance对象本身\n",
    "\n",
    "# -> 而Python中就规定好了，函数的第一个参数，就必须是实例对象本身，并且建议，约定俗成，把其名字写为self,以self为前缀的变量都可供类中的所有方法使用\n",
    "\n",
    "# -> 所以，我们需要self（需要用到self）"
   ]
  },
  {
   "cell_type": "code",
   "execution_count": 2,
   "id": "92714721",
   "metadata": {},
   "outputs": [],
   "source": [
    "import torch\n",
    "import torch.nn as nn\n",
    "import torch.nn.functional as F"
   ]
  },
  {
   "cell_type": "code",
   "execution_count": 3,
   "id": "0ec471ef",
   "metadata": {},
   "outputs": [],
   "source": [
    "import torchvision\n",
    "import torchvision.transforms as transforms"
   ]
  },
  {
   "cell_type": "code",
   "execution_count": 4,
   "id": "88b6e208",
   "metadata": {},
   "outputs": [],
   "source": [
    "torch.set_printoptions(linewidth=120) #此参数是指如果一行数据太多会插入换行符，此参数是指定每行的字符数（注意是字符数，不是数据的个数，这个一定要注意）到达多少时插入换行符，此参数对于显示时超过threshold而折叠的tensor并不适用。默认为80。"
   ]
  },
  {
   "cell_type": "code",
   "execution_count": 5,
   "id": "7a73c69b",
   "metadata": {},
   "outputs": [],
   "source": [
    "train_set = torchvision.datasets.FashionMNIST(\n",
    "    root = 'data/FashionMNIST/',\n",
    "    train = True,\n",
    "    download = True,\n",
    "    transform = transforms.Compose([\n",
    "        transforms.ToTensor()\n",
    "    ])\n",
    ")\n"
   ]
  },
  {
   "cell_type": "code",
   "execution_count": 6,
   "id": "0102b48d",
   "metadata": {},
   "outputs": [],
   "source": [
    "class Network(nn.Module): \n",
    "    def __init__(self):                                                                \n",
    "        super(Network,self).__init__()\n",
    "        self.conv1 = nn.Conv2d(in_channels=1, out_channels=6, kernel_size=5)\n",
    "        self.conv2 = nn.Conv2d(in_channels=6, out_channels=12, kernel_size=5)\n",
    "        \n",
    "        self.fc1 = nn.Linear(in_features=12*4*4, out_features=120)\n",
    "        self.fc2 = nn.Linear(in_features=120, out_features=60)\n",
    "        self.out = nn.Linear(in_features=60, out_features=10)\n",
    "        \n",
    "    def forward(self,t):\n",
    "        t = F.relu(self.conv1(t))\n",
    "        t = F.max_pool2d(t,kernel_size=2,stride=2)\n",
    "        \n",
    "        t = F.relu(self.conv2(t))\n",
    "        t = F.max_pool2d(t,kernel_size=2,stride=2)\n",
    "        \n",
    "        t = F.relu(self.fc1(t.reshape(-1,12*4*4)))\n",
    "        t = F.relu(self.fc2(t))\n",
    "        t = self.out(t)\n",
    "        \n",
    "        return t "
   ]
  },
  {
   "cell_type": "code",
   "execution_count": 7,
   "id": "1697dd97",
   "metadata": {},
   "outputs": [],
   "source": [
    "network = Network()"
   ]
  },
  {
   "cell_type": "code",
   "execution_count": 8,
   "id": "72361351",
   "metadata": {},
   "outputs": [],
   "source": [
    "sample = next(iter(train_set))"
   ]
  },
  {
   "cell_type": "code",
   "execution_count": 9,
   "id": "df03f2ee",
   "metadata": {},
   "outputs": [],
   "source": [
    "image,label = sample"
   ]
  },
  {
   "cell_type": "code",
   "execution_count": 10,
   "id": "3633299f",
   "metadata": {},
   "outputs": [
    {
     "data": {
      "text/plain": [
       "torch.Size([1, 28, 28])"
      ]
     },
     "execution_count": 10,
     "metadata": {},
     "output_type": "execute_result"
    }
   ],
   "source": [
    "image.shape"
   ]
  },
  {
   "cell_type": "code",
   "execution_count": 11,
   "id": "e0964be2",
   "metadata": {},
   "outputs": [
    {
     "data": {
      "text/plain": [
       "torch.Size([1, 1, 28, 28])"
      ]
     },
     "execution_count": 11,
     "metadata": {},
     "output_type": "execute_result"
    }
   ],
   "source": [
    "image.unsqueeze(0).shape   #unsqueeze(0)增加维度，"
   ]
  },
  {
   "cell_type": "code",
   "execution_count": 12,
   "id": "babc0e44",
   "metadata": {},
   "outputs": [],
   "source": [
    "pred = network(image.unsqueeze(0))"
   ]
  },
  {
   "cell_type": "code",
   "execution_count": 13,
   "id": "9717f28e",
   "metadata": {},
   "outputs": [
    {
     "data": {
      "text/plain": [
       "torch.Size([1, 10])"
      ]
     },
     "execution_count": 13,
     "metadata": {},
     "output_type": "execute_result"
    }
   ],
   "source": [
    "pred.shape"
   ]
  },
  {
   "cell_type": "code",
   "execution_count": 14,
   "id": "831748d1",
   "metadata": {},
   "outputs": [
    {
     "data": {
      "text/plain": [
       "tensor([[ 0.1318, -0.0733, -0.0013, -0.0769,  0.0912, -0.0105,  0.0809, -0.0002,  0.0249, -0.0013]],\n",
       "       grad_fn=<AddmmBackward>)"
      ]
     },
     "execution_count": 14,
     "metadata": {},
     "output_type": "execute_result"
    }
   ],
   "source": [
    "pred"
   ]
  },
  {
   "cell_type": "code",
   "execution_count": 15,
   "id": "4d34f23e",
   "metadata": {},
   "outputs": [
    {
     "data": {
      "text/plain": [
       "9"
      ]
     },
     "execution_count": 15,
     "metadata": {},
     "output_type": "execute_result"
    }
   ],
   "source": [
    "label"
   ]
  },
  {
   "cell_type": "code",
   "execution_count": 16,
   "id": "7aa8870a",
   "metadata": {},
   "outputs": [
    {
     "data": {
      "text/plain": [
       "tensor([0])"
      ]
     },
     "execution_count": 16,
     "metadata": {},
     "output_type": "execute_result"
    }
   ],
   "source": [
    "pred.argmax(dim=1)        #（1）torch.argmax(input, dim=None, keepdim=False)返回指定维度最大值的序号；\n",
    "                          # （2）dim给定的定义是：the demention to reduce.也就是把dim这个维度的，变成这个维度的最大值的index。\n",
    "                          #我们想要求每一行最大的列标号，我们就要指定dim=1，表示我们不要列了，保留行的size就可以了。"
   ]
  },
  {
   "cell_type": "code",
   "execution_count": 17,
   "id": "74ad6bf5",
   "metadata": {},
   "outputs": [
    {
     "data": {
      "text/plain": [
       "tensor(1., grad_fn=<SumBackward0>)"
      ]
     },
     "execution_count": 17,
     "metadata": {},
     "output_type": "execute_result"
    }
   ],
   "source": [
    "F.softmax(pred,dim=1).sum()"
   ]
  },
  {
   "cell_type": "code",
   "execution_count": null,
   "id": "22764568",
   "metadata": {},
   "outputs": [],
   "source": []
  },
  {
   "cell_type": "code",
   "execution_count": null,
   "id": "d64b5ea5",
   "metadata": {},
   "outputs": [],
   "source": []
  }
 ],
 "metadata": {
  "kernelspec": {
   "display_name": "Python [conda env:py38] *",
   "language": "python",
   "name": "conda-env-py38-py"
  },
  "language_info": {
   "codemirror_mode": {
    "name": "ipython",
    "version": 3
   },
   "file_extension": ".py",
   "mimetype": "text/x-python",
   "name": "python",
   "nbconvert_exporter": "python",
   "pygments_lexer": "ipython3",
   "version": "3.8.10"
  }
 },
 "nbformat": 4,
 "nbformat_minor": 5
}
