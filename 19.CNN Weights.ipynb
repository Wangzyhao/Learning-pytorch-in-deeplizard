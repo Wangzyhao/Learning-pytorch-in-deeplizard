{
 "cells": [
  {
   "cell_type": "code",
   "execution_count": 1,
   "id": "f9b69934",
   "metadata": {},
   "outputs": [],
   "source": [
    "import torch\n",
    "import torch.nn as nn"
   ]
  },
  {
   "cell_type": "code",
   "execution_count": 3,
   "id": "23bd7163",
   "metadata": {},
   "outputs": [],
   "source": [
    "class Network(nn.Module):\n",
    "    def __init__(self):\n",
    "        super(Network,self).__init__()\n",
    "        self.conv1 = nn.Conv2d(in_channels=1, out_channels=6, kernel_size=5)\n",
    "        self.conv2 = nn.Conv2d(in_channels=6, out_channels=12, kernel_size=5)\n",
    "        \n",
    "        self.fc1 = nn.Linear(in_features=12*4*4, out_features=120)\n",
    "        self.fc2 = nn.Linear(in_features=120, out_features=60)\n",
    "        \n",
    "        self.out = nn.Linear(in_features=60,out_features=10)\n",
    "        \n",
    "    def forward(self,t):\n",
    "        #implement the forward pass\n",
    "        return t"
   ]
  },
  {
   "cell_type": "code",
   "execution_count": 4,
   "id": "e9e831bc",
   "metadata": {},
   "outputs": [
    {
     "data": {
      "text/plain": [
       "Network(\n",
       "  (conv1): Conv2d(1, 6, kernel_size=(5, 5), stride=(1, 1))\n",
       "  (conv2): Conv2d(6, 12, kernel_size=(5, 5), stride=(1, 1))\n",
       "  (fc1): Linear(in_features=192, out_features=120, bias=True)\n",
       "  (fc2): Linear(in_features=120, out_features=60, bias=True)\n",
       "  (out): Linear(in_features=60, out_features=10, bias=True)\n",
       ")"
      ]
     },
     "execution_count": 4,
     "metadata": {},
     "output_type": "execute_result"
    }
   ],
   "source": [
    "network = Network()   #我们键入类名后面跟着（），当这段代码执行时，init类构造函数中的代码会运行，将为我们的层分配类属性，然后返回对象的实例\n",
    "network               #stride=(1, 1)层会自动设置步长，此代表filter会向右滑动一格，向下滑动1格"
   ]
  },
  {
   "cell_type": "code",
   "execution_count": 5,
   "id": "03eec2a4",
   "metadata": {},
   "outputs": [
    {
     "data": {
      "text/plain": [
       "Conv2d(1, 6, kernel_size=(5, 5), stride=(1, 1))"
      ]
     },
     "execution_count": 5,
     "metadata": {},
     "output_type": "execute_result"
    }
   ],
   "source": [
    "network.conv1                #out_channels=6表示有6个滤波器"
   ]
  },
  {
   "cell_type": "code",
   "execution_count": 6,
   "id": "cbf31436",
   "metadata": {},
   "outputs": [
    {
     "data": {
      "text/plain": [
       "Parameter containing:\n",
       "tensor([[[[-0.0481,  0.1029,  0.1732, -0.1042, -0.0822],\n",
       "          [-0.0090,  0.1273,  0.1931, -0.0208, -0.1089],\n",
       "          [ 0.0975,  0.0013, -0.1145, -0.1656, -0.0844],\n",
       "          [-0.1770,  0.1054, -0.0687, -0.1871,  0.0785],\n",
       "          [-0.1531,  0.1423,  0.1713, -0.0717, -0.1508]]],\n",
       "\n",
       "\n",
       "        [[[ 0.0793,  0.0018, -0.1661, -0.0769,  0.1300],\n",
       "          [ 0.0479,  0.0797, -0.0271, -0.0933,  0.1164],\n",
       "          [ 0.1835,  0.1403, -0.1539, -0.0017, -0.1138],\n",
       "          [ 0.0693,  0.1918, -0.1446, -0.1663, -0.0759],\n",
       "          [ 0.1218, -0.1495,  0.0866,  0.0867, -0.0471]]],\n",
       "\n",
       "\n",
       "        [[[-0.0764, -0.1936,  0.1055, -0.1697,  0.1571],\n",
       "          [-0.1945,  0.1453,  0.1546,  0.0474, -0.1682],\n",
       "          [ 0.0394, -0.1575, -0.0895, -0.1381, -0.0155],\n",
       "          [-0.1486, -0.1439,  0.0515,  0.1759, -0.0734],\n",
       "          [-0.1028,  0.0907, -0.0309,  0.0146,  0.1890]]],\n",
       "\n",
       "\n",
       "        [[[-0.0998,  0.0031,  0.1240,  0.1909,  0.0969],\n",
       "          [ 0.0797, -0.0542,  0.1330, -0.0942,  0.0601],\n",
       "          [ 0.1889, -0.1338,  0.0686,  0.0102, -0.1477],\n",
       "          [ 0.1594,  0.0005, -0.0027,  0.0212,  0.0951],\n",
       "          [ 0.1322,  0.1471, -0.1914, -0.0084,  0.1139]]],\n",
       "\n",
       "\n",
       "        [[[ 0.0009,  0.1990, -0.0093, -0.0188, -0.1365],\n",
       "          [ 0.0199, -0.0925, -0.1233, -0.0132, -0.0449],\n",
       "          [ 0.0774, -0.1378, -0.1981, -0.1221,  0.0662],\n",
       "          [-0.1299, -0.1653, -0.1339, -0.0172, -0.0600],\n",
       "          [-0.1968, -0.0758, -0.0361,  0.0716,  0.1883]]],\n",
       "\n",
       "\n",
       "        [[[ 0.1110, -0.1812,  0.0903,  0.1198,  0.1138],\n",
       "          [-0.0153, -0.0055,  0.0350,  0.0967, -0.1375],\n",
       "          [-0.1218, -0.0448, -0.0445,  0.1725,  0.1322],\n",
       "          [ 0.1023, -0.1758, -0.0378,  0.1961,  0.1495],\n",
       "          [-0.1096,  0.1416,  0.0769, -0.0254,  0.1832]]]], requires_grad=True)"
      ]
     },
     "execution_count": 6,
     "metadata": {},
     "output_type": "execute_result"
    }
   ],
   "source": [
    "network.conv1.weight"
   ]
  },
  {
   "cell_type": "code",
   "execution_count": 7,
   "id": "15fedaf7",
   "metadata": {},
   "outputs": [
    {
     "data": {
      "text/plain": [
       "torch.Size([6, 1, 5, 5])"
      ]
     },
     "execution_count": 7,
     "metadata": {},
     "output_type": "execute_result"
    }
   ],
   "source": [
    "network.conv1.weight.shape     #一个颜色通道，包含6个5*5的filter滤波器，产生6个输出通道。\n",
    "                               #对于6个滤波器，我们没有明确6个权重张量，则6个滤波器都使用一个权重张量\n",
    "                              #第一个张量表示有6个滤波器，，最后两个张量表示滤波器的宽度和高度"
   ]
  },
  {
   "cell_type": "code",
   "execution_count": 8,
   "id": "edf0a17b",
   "metadata": {},
   "outputs": [
    {
     "data": {
      "text/plain": [
       "torch.Size([12, 6, 5, 5])"
      ]
     },
     "execution_count": 8,
     "metadata": {},
     "output_type": "execute_result"
    }
   ],
   "source": [
    "network.conv2.weight.shape    #第二个卷积层有12个滤波器，这里的滤波器有一个与通道数量相匹配的深度，所以它可以一次滑过所有的通道"
   ]
  },
  {
   "cell_type": "code",
   "execution_count": 9,
   "id": "66e5c9fa",
   "metadata": {},
   "outputs": [
    {
     "data": {
      "text/plain": [
       "torch.Size([120, 192])"
      ]
     },
     "execution_count": 9,
     "metadata": {},
     "output_type": "execute_result"
    }
   ],
   "source": [
    "network.fc1.weight.shape"
   ]
  },
  {
   "cell_type": "code",
   "execution_count": 10,
   "id": "c9c017f2",
   "metadata": {},
   "outputs": [
    {
     "data": {
      "text/plain": [
       "torch.Size([60, 120])"
      ]
     },
     "execution_count": 10,
     "metadata": {},
     "output_type": "execute_result"
    }
   ],
   "source": [
    "network.fc2.weight.shape"
   ]
  },
  {
   "cell_type": "code",
   "execution_count": 11,
   "id": "b5f60454",
   "metadata": {},
   "outputs": [
    {
     "data": {
      "text/plain": [
       "torch.Size([10, 60])"
      ]
     },
     "execution_count": 11,
     "metadata": {},
     "output_type": "execute_result"
    }
   ],
   "source": [
    "network.out.weight.shape"
   ]
  },
  {
   "cell_type": "code",
   "execution_count": 12,
   "id": "8e5b0f9a",
   "metadata": {},
   "outputs": [
    {
     "data": {
      "text/plain": [
       "torch.Size([6, 5, 5])"
      ]
     },
     "execution_count": 12,
     "metadata": {},
     "output_type": "execute_result"
    }
   ],
   "source": [
    "network.conv2.weight[0].shape   #这里是一个单独的滤波器，它的高度和宽度是5，深度是6"
   ]
  },
  {
   "cell_type": "code",
   "execution_count": 13,
   "id": "99b1d79c",
   "metadata": {},
   "outputs": [
    {
     "name": "stdout",
     "output_type": "stream",
     "text": [
      "torch.Size([6, 1, 5, 5])\n",
      "torch.Size([6])\n",
      "torch.Size([12, 6, 5, 5])\n",
      "torch.Size([12])\n",
      "torch.Size([120, 192])\n",
      "torch.Size([120])\n",
      "torch.Size([60, 120])\n",
      "torch.Size([60])\n",
      "torch.Size([10, 60])\n",
      "torch.Size([10])\n"
     ]
    }
   ],
   "source": [
    "for param in network.parameters():   #同时访问所有参数\n",
    "    print(param.shape)"
   ]
  },
  {
   "cell_type": "code",
   "execution_count": 14,
   "id": "bdd0846b",
   "metadata": {},
   "outputs": [
    {
     "name": "stdout",
     "output_type": "stream",
     "text": [
      "conv1.weight \t\t torch.Size([6, 1, 5, 5])\n",
      "conv1.bias \t\t torch.Size([6])\n",
      "conv2.weight \t\t torch.Size([12, 6, 5, 5])\n",
      "conv2.bias \t\t torch.Size([12])\n",
      "fc1.weight \t\t torch.Size([120, 192])\n",
      "fc1.bias \t\t torch.Size([120])\n",
      "fc2.weight \t\t torch.Size([60, 120])\n",
      "fc2.bias \t\t torch.Size([60])\n",
      "out.weight \t\t torch.Size([10, 60])\n",
      "out.bias \t\t torch.Size([10])\n"
     ]
    }
   ],
   "source": [
    "for name,param in network.named_parameters(): \n",
    "    print(name,'\\t\\t',param.shape)"
   ]
  },
  {
   "cell_type": "code",
   "execution_count": null,
   "id": "be449eb2",
   "metadata": {},
   "outputs": [],
   "source": []
  }
 ],
 "metadata": {
  "kernelspec": {
   "display_name": "Python [conda env:py38] *",
   "language": "python",
   "name": "conda-env-py38-py"
  },
  "language_info": {
   "codemirror_mode": {
    "name": "ipython",
    "version": 3
   },
   "file_extension": ".py",
   "mimetype": "text/x-python",
   "name": "python",
   "nbconvert_exporter": "python",
   "pygments_lexer": "ipython3",
   "version": "3.8.10"
  }
 },
 "nbformat": 4,
 "nbformat_minor": 5
}
