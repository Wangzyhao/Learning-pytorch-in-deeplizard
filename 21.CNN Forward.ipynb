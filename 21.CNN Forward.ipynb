{
 "cells": [
  {
   "cell_type": "code",
   "execution_count": 1,
   "id": "57fb0b0c",
   "metadata": {},
   "outputs": [],
   "source": [
    "import torch\n",
    "import torch.nn as nn\n",
    "import torch.nn.functional as F"
   ]
  },
  {
   "cell_type": "code",
   "execution_count": 3,
   "id": "80daf1c1",
   "metadata": {},
   "outputs": [],
   "source": [
    "class Network(nn.Module):\n",
    "    def __init__(self):\n",
    "        super(Network,self).__init__()\n",
    "    \n",
    "        self.conv1 = nn.Conv2d(in_channels=1, out_channels=6, kernel_size=5)\n",
    "        self.conv2 = nn.Conv2d(in_channels=6, out_channels=12, kernel_size=5)\n",
    "    \n",
    "        self.fc1 = nn.Linear(in_features=12*4*4, out_features=120)\n",
    "        self.fc2 = nn.Linear(in_features=120, out_features=60)\n",
    "    \n",
    "        self.out = nn.Linear(in_features=60, out_features=10)\n",
    "    \n",
    "    def forward(self,t):\n",
    "        #(1)input layer\n",
    "        t = t   \n",
    "        \n",
    "        #(2)hidden conv layer\n",
    "        t = self.conv1(t)                       #为了展示卷积操作，我们把一个张量传递给第一个卷积层的前向方法（所有pytorch神经网络模块都有一个前向方法）\n",
    "        t = F.relu(t)                           #当我们调用结束模块类实例的前向方法时，有一种特殊的方法，叫做实际的实例，而不是直接叫做前向方法\n",
    "        t = F.max_pool2d(t, kernel_size=2, stride=2)\n",
    "        \n",
    "        #(3)hidden conv layer\n",
    "        t = self.conv2(t)                             \n",
    "        t = F.relu(t)                           \n",
    "        t = F.max_pool2d(t, kernel_size=2, stride=2)\n",
    "        \n",
    "        #(4)hidden linear layer\n",
    "        t = t.reshape(-1,12*4*4)       #12是由之前的卷积层产生的输出通道的数量决定的。\n",
    "        t = self.fc1(t)                #4*4是由[1,28,28]经过第一个线性层时变化而来 28*28 -> 4*4(这种减少是由卷积和池化造成的)\n",
    "        t = F.relu(t)\n",
    "        \n",
    "        #(5)hidden linear layer\n",
    "        t = self.fc2(t)\n",
    "        t = F.relu(t)\n",
    "        \n",
    "        #(6)output layer\n",
    "        t = self.out(t)\n",
    "        #t = F.softmax(t,dim=1)             #softmax()为每一个预测类返回一个正确的概率\n",
    "                                            #在此处的例子中并没有使用softmax，而是在训练过程中使用损失函数，从nn.函数类中使用交叉熵损失函数，它在其输入上隐式地执行一个softmax操作\n",
    "        return t\n",
    "        \n",
    "    \n",
    "        \n",
    "    \n",
    "    "
   ]
  },
  {
   "cell_type": "code",
   "execution_count": null,
   "id": "166a3b83",
   "metadata": {},
   "outputs": [],
   "source": []
  }
 ],
 "metadata": {
  "kernelspec": {
   "display_name": "Python [conda env:py38] *",
   "language": "python",
   "name": "conda-env-py38-py"
  },
  "language_info": {
   "codemirror_mode": {
    "name": "ipython",
    "version": 3
   },
   "file_extension": ".py",
   "mimetype": "text/x-python",
   "name": "python",
   "nbconvert_exporter": "python",
   "pygments_lexer": "ipython3",
   "version": "3.8.10"
  }
 },
 "nbformat": 4,
 "nbformat_minor": 5
}
