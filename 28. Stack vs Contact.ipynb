{
 "cells": [
  {
   "cell_type": "code",
   "execution_count": 1,
   "id": "fa8e617a",
   "metadata": {},
   "outputs": [],
   "source": [
    "###总结concatenate、stack、hstack、vstack、dstack都是将多个序列连接起来的方法，只是连接的方法不同；\n",
    "\n",
    "# concatenate（cat）是在 存在的维度上 连接序列，并且除了操作的维度，其他维度的尺寸要相同；\n",
    "\n",
    "# stack是在增加的 新的维度 上连接序列，需要连接的所有序列的所有维度都要相同；\n",
    "\n",
    "\n",
    "# vstack、hstack相当于stack在axis=0，axis=1的轴上的操作;\n",
    "# stack、vstack、hstack相当于增加新的维度之后的concatenate。\n",
    "\n",
    "###实例\n",
    "#在深度学习处理图像时，常用的有3通道的RGB彩色图像及单通道的灰度图。\n",
    "#张量size为cxhxw,即通道数x图像高度x图像宽度。在用torch.cat拼接两张图像时一般要求图像大小一致而通道数可不一致，即h和w同，c可不同。\n",
    "#当然实际有3种拼接方式，另两种好像不常见。比如经典网络结构：U-Net\n"
   ]
  },
  {
   "cell_type": "code",
   "execution_count": 2,
   "id": "5e7a4754",
   "metadata": {},
   "outputs": [],
   "source": [
    "import torch "
   ]
  },
  {
   "cell_type": "code",
   "execution_count": 3,
   "id": "0ff6935a",
   "metadata": {},
   "outputs": [],
   "source": [
    "t1 = torch.tensor([1,1,1])"
   ]
  },
  {
   "cell_type": "code",
   "execution_count": 4,
   "id": "0ea13f41",
   "metadata": {},
   "outputs": [
    {
     "data": {
      "text/plain": [
       "tensor([[1, 1, 1]])"
      ]
     },
     "execution_count": 4,
     "metadata": {},
     "output_type": "execute_result"
    }
   ],
   "source": [
    "t1.unsqueeze(dim=0)"
   ]
  },
  {
   "cell_type": "code",
   "execution_count": 5,
   "id": "0919448f",
   "metadata": {},
   "outputs": [
    {
     "data": {
      "text/plain": [
       "tensor([[1],\n",
       "        [1],\n",
       "        [1]])"
      ]
     },
     "execution_count": 5,
     "metadata": {},
     "output_type": "execute_result"
    }
   ],
   "source": [
    "t1.unsqueeze(dim=1)"
   ]
  },
  {
   "cell_type": "code",
   "execution_count": 6,
   "id": "8cd58e77",
   "metadata": {},
   "outputs": [
    {
     "name": "stdout",
     "output_type": "stream",
     "text": [
      "torch.Size([3])\n",
      "torch.Size([1, 3])\n",
      "torch.Size([3, 1])\n"
     ]
    }
   ],
   "source": [
    "print(t1.shape)\n",
    "print(t1.unsqueeze(dim=0).shape)\n",
    "print(t1.unsqueeze(dim=1).shape)"
   ]
  },
  {
   "cell_type": "markdown",
   "id": "849c44d9",
   "metadata": {},
   "source": [
    "# Pytorch: Stack  vs  Cat"
   ]
  },
  {
   "cell_type": "code",
   "execution_count": 7,
   "id": "faf7d925",
   "metadata": {},
   "outputs": [],
   "source": [
    "t1 = torch.tensor([1,1,1])\n",
    "t2 = torch.tensor([2,2,2])\n",
    "t3 = torch.tensor([3,3,3])"
   ]
  },
  {
   "cell_type": "code",
   "execution_count": 10,
   "id": "76576fa4",
   "metadata": {},
   "outputs": [
    {
     "data": {
      "text/plain": [
       "tensor([1, 1, 1, 2, 2, 2, 3, 3, 3])"
      ]
     },
     "execution_count": 10,
     "metadata": {},
     "output_type": "execute_result"
    }
   ],
   "source": [
    "torch.cat((t1,t2,t3),dim=0)   #唯一存在的坐标轴是单个的第一轴          "
   ]
  },
  {
   "cell_type": "code",
   "execution_count": 11,
   "id": "16264167",
   "metadata": {},
   "outputs": [
    {
     "data": {
      "text/plain": [
       "tensor([[1, 1, 1],\n",
       "        [2, 2, 2],\n",
       "        [3, 3, 3]])"
      ]
     },
     "execution_count": 11,
     "metadata": {},
     "output_type": "execute_result"
    }
   ],
   "source": [
    "torch.stack((t1,t2,t3),dim=0)"
   ]
  },
  {
   "cell_type": "code",
   "execution_count": 15,
   "id": "c18e54db",
   "metadata": {},
   "outputs": [
    {
     "data": {
      "text/plain": [
       "tensor([[1, 1, 1],\n",
       "        [2, 2, 2],\n",
       "        [3, 3, 3]])"
      ]
     },
     "execution_count": 15,
     "metadata": {},
     "output_type": "execute_result"
    }
   ],
   "source": [
    "torch.cat(\n",
    "    (\n",
    "    t1.unsqueeze(0),\n",
    "    t2.unsqueeze(0),\n",
    "    t3.unsqueeze(0) \n",
    "    )\n",
    "    ,dim=0\n",
    ")"
   ]
  },
  {
   "cell_type": "code",
   "execution_count": 16,
   "id": "68583ce9",
   "metadata": {},
   "outputs": [
    {
     "data": {
      "text/plain": [
       "tensor([[1, 2, 3],\n",
       "        [1, 2, 3],\n",
       "        [1, 2, 3]])"
      ]
     },
     "execution_count": 16,
     "metadata": {},
     "output_type": "execute_result"
    }
   ],
   "source": [
    "torch.cat(                           #对第二个轴进行堆叠\n",
    "    (\n",
    "    t1.unsqueeze(1),\n",
    "    t2.unsqueeze(1),\n",
    "    t3.unsqueeze(1) \n",
    "    )\n",
    "    ,dim=1\n",
    ")"
   ]
  },
  {
   "cell_type": "code",
   "execution_count": 17,
   "id": "f7650475",
   "metadata": {},
   "outputs": [],
   "source": [
    "###举例\n",
    "\n",
    "###(1)\n",
    "#假设有三个单独的图像作为向量，每个图像张量有三个维度，一个通道轴，一个宽度轴，一个高度轴\n",
    "#现在我们的任务是将这些张量结合在一起形成一个三个图像的单张量（如果我们沿着任何现有的维度把这三个张量连接起来就会把通道宽度高度弄乱，所以使用stack）\n",
    "\n",
    "\n",
    "###(2)\n",
    "#假设我们有和之前一样的三个图像，但这一次图像已经有了一个批处理的一个维度，这意味着我们有三个批次，其大小为1\n",
    "#任务是获得一批三张图像（使用cancat）\n",
    "\n",
    "\n",
    "#（3）\n",
    "#假设我们有三个独立的图像张量，只是这次我们已经有了一个批张量\n",
    "#任务是加入这三个独立的图像\n",
    "#将三个图像张量的第一个维度进行叠加（stack），即创建了一个长度为3的新批次维度，然后我们可以与已有的批量进行concat"
   ]
  },
  {
   "cell_type": "code",
   "execution_count": null,
   "id": "0c54cb5e",
   "metadata": {},
   "outputs": [],
   "source": []
  }
 ],
 "metadata": {
  "kernelspec": {
   "display_name": "Python [conda env:py38] *",
   "language": "python",
   "name": "conda-env-py38-py"
  },
  "language_info": {
   "codemirror_mode": {
    "name": "ipython",
    "version": 3
   },
   "file_extension": ".py",
   "mimetype": "text/x-python",
   "name": "python",
   "nbconvert_exporter": "python",
   "pygments_lexer": "ipython3",
   "version": "3.8.10"
  }
 },
 "nbformat": 4,
 "nbformat_minor": 5
}
