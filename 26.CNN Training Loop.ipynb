{
 "cells": [
  {
   "cell_type": "code",
   "execution_count": null,
   "id": "6020acb6",
   "metadata": {},
   "outputs": [],
   "source": [
    "import torch\n",
    "import torch.nn as nn\n",
    "import torch.nn.functional as F\n",
    "\n",
    "import torch.optim as optim\n",
    "import torchvision\n",
    "import torchvision.transforms as transforms\n"
   ]
  },
  {
   "cell_type": "code",
   "execution_count": 2,
   "id": "c67299b8",
   "metadata": {},
   "outputs": [],
   "source": [
    "def get_num_correct(preds, labels):\n",
    "    return preds.argmax(dim=1).eq(labels).sum().item()"
   ]
  },
  {
   "cell_type": "code",
   "execution_count": 3,
   "id": "29202b16",
   "metadata": {},
   "outputs": [],
   "source": [
    "class Network(nn.Module): \n",
    "    def __init__(self):                                                                \n",
    "        super(Network,self).__init__()\n",
    "        self.conv1 = nn.Conv2d(in_channels=1, out_channels=6, kernel_size=5)\n",
    "        self.conv2 = nn.Conv2d(in_channels=6, out_channels=12, kernel_size=5)\n",
    "        \n",
    "        self.fc1 = nn.Linear(in_features=12*4*4, out_features=120)\n",
    "        self.fc2 = nn.Linear(in_features=120, out_features=60)\n",
    "        self.out = nn.Linear(in_features=60, out_features=10)\n",
    "        \n",
    "    def forward(self,t):\n",
    "        t = F.relu(self.conv1(t))                          #简洁书写，将卷积与relu结合在一起\n",
    "        t = F.max_pool2d(t,kernel_size=2,stride=2)     \n",
    "        \n",
    "        t = F.relu(self.conv2(t))\n",
    "        t = F.max_pool2d(t,kernel_size=2,stride=2)\n",
    "        \n",
    "        t = F.relu(self.fc1(t.reshape(-1,12*4*4)))\n",
    "        t = F.relu(self.fc2(t))\n",
    "        t = self.out(t)\n",
    "        \n",
    "        return t "
   ]
  },
  {
   "cell_type": "code",
   "execution_count": 4,
   "id": "79b299fa",
   "metadata": {},
   "outputs": [],
   "source": [
    "train_set = torchvision.datasets.FashionMNIST(\n",
    "    root = 'data/FashionMNIST',\n",
    "    train = True,\n",
    "    download = True,\n",
    "    transform = transforms.Compose([              #torchvision.transforms是pytorch中的图像预处理包。一般用Compose把多个步骤整合到一起\n",
    "        transforms.ToTensor()\n",
    "    ])\n",
    ")"
   ]
  },
  {
   "cell_type": "code",
   "execution_count": 5,
   "id": "eb87dcab",
   "metadata": {},
   "outputs": [
    {
     "name": "stdout",
     "output_type": "stream",
     "text": [
      "epoch: 0 total_correct: 47851 loss: 324.11772863566875\n"
     ]
    }
   ],
   "source": [
    "network = Network()                                                    \n",
    "\n",
    "train_loader = torch.utils.data.DataLoader(train_set, batch_size=100)   \n",
    "optimizer = optim.Adam(network.parameters(), lr=0.01)                  \n",
    "\n",
    "total_loss = 0\n",
    "total_correct = 0 \n",
    "for batch in train_loader:                                                      #batch = next(iter(train_loader))                                       \n",
    "    images, labels = batch                                                 \n",
    "\n",
    "    preds = network(images)                                                \n",
    "    loss = F.cross_entropy(preds, labels)   \n",
    "    \n",
    "    optimizer.zero_grad()                  #我们要告诉优化器把梯度属性中的权重清零，因为pytorch会积累梯度，防止累加\n",
    "    loss.backward()                                                        \n",
    "    optimizer.step()  \n",
    "    \n",
    "    total_loss += loss.item()\n",
    "    total_correct += get_num_correct(preds, labels)\n",
    "    \n",
    "    \n",
    "print('epoch:',0,'total_correct:',total_correct,'loss:',total_loss)\n",
    "\n",
    "\n"
   ]
  },
  {
   "cell_type": "code",
   "execution_count": 6,
   "id": "67e73088",
   "metadata": {},
   "outputs": [
    {
     "name": "stdout",
     "output_type": "stream",
     "text": [
      "epoch: 0 total_correct: 47243 loss: 333.41273602843285\n",
      "epoch: 1 total_correct: 51006 loss: 238.43375098705292\n",
      "epoch: 2 total_correct: 51647 loss: 223.45918083190918\n",
      "epoch: 3 total_correct: 52039 loss: 212.95683501660824\n",
      "epoch: 4 total_correct: 52225 loss: 207.3524653017521\n"
     ]
    }
   ],
   "source": [
    "network = Network()                                                    \n",
    "\n",
    "train_loader = torch.utils.data.DataLoader(train_set, batch_size=100)   \n",
    "optimizer = optim.Adam(network.parameters(), lr=0.01)                  \n",
    "\n",
    "for epoch in range(5):\n",
    "    \n",
    "    total_loss = 0\n",
    "    total_correct = 0 \n",
    "    \n",
    "    for batch in train_loader:                                                      #batch = next(iter(train_loader))                                       \n",
    "        images, labels = batch                                                 \n",
    "\n",
    "        preds = network(images)                                                \n",
    "        loss = F.cross_entropy(preds, labels)   \n",
    "\n",
    "        optimizer.zero_grad()                  #我们要告诉优化器把梯度属性中的权重清零，因为pytorch会积累梯度，防止累加\n",
    "        loss.backward()                                                        \n",
    "        optimizer.step()  \n",
    "\n",
    "        total_loss += loss.item()\n",
    "        total_correct += get_num_correct(preds, labels)\n",
    "\n",
    "\n",
    "    print('epoch:',epoch,'total_correct:',total_correct,'loss:',total_loss)\n",
    "\n",
    "\n"
   ]
  },
  {
   "cell_type": "code",
   "execution_count": 7,
   "id": "195cf30e",
   "metadata": {},
   "outputs": [
    {
     "data": {
      "text/plain": [
       "0.8704166666666666"
      ]
     },
     "execution_count": 7,
     "metadata": {},
     "output_type": "execute_result"
    }
   ],
   "source": [
    "total_correct/len(train_set)"
   ]
  },
  {
   "cell_type": "code",
   "execution_count": null,
   "id": "db0f9867",
   "metadata": {},
   "outputs": [],
   "source": []
  }
 ],
 "metadata": {
  "kernelspec": {
   "display_name": "Python [conda env:py38] *",
   "language": "python",
   "name": "conda-env-py38-py"
  },
  "language_info": {
   "codemirror_mode": {
    "name": "ipython",
    "version": 3
   },
   "file_extension": ".py",
   "mimetype": "text/x-python",
   "name": "python",
   "nbconvert_exporter": "python",
   "pygments_lexer": "ipython3",
   "version": "3.8.10"
  }
 },
 "nbformat": 4,
 "nbformat_minor": 5
}
