{
 "cells": [
  {
   "cell_type": "code",
   "execution_count": 1,
   "id": "28fe3517",
   "metadata": {},
   "outputs": [],
   "source": [
    "import torch\n",
    "import torch.nn as nn"
   ]
  },
  {
   "cell_type": "code",
   "execution_count": 2,
   "id": "888211d8",
   "metadata": {},
   "outputs": [],
   "source": [
    "in_features = torch.tensor([1,2,3,4],dtype=torch.float32)   #创建了一维张量"
   ]
  },
  {
   "cell_type": "code",
   "execution_count": 3,
   "id": "28ab2cc3",
   "metadata": {},
   "outputs": [],
   "source": [
    "weight_matrix = torch.tensor([                              #权重矩阵（二维张量）\n",
    "    [1,2,3,4],\n",
    "    [2,3,4,5],\n",
    "    [3,4,5,6]\n",
    "],dtype=torch.float32)"
   ]
  },
  {
   "cell_type": "code",
   "execution_count": 4,
   "id": "278aedb2",
   "metadata": {},
   "outputs": [
    {
     "data": {
      "text/plain": [
       "tensor([30., 40., 50.])"
      ]
     },
     "execution_count": 4,
     "metadata": {},
     "output_type": "execute_result"
    }
   ],
   "source": [
    "weight_matrix.matmul(in_features)                         #矩阵乘法后产生一个一维张量，（将一个有四个元素的一维张量映射到一个有三个元素的一维张量）"
   ]
  },
  {
   "cell_type": "code",
   "execution_count": 6,
   "id": "022119af",
   "metadata": {},
   "outputs": [],
   "source": [
    "fc = nn.Linear(in_features=4, out_features=3)      #权重矩阵存在于pytorch线性层类中，通过将数字4和3传递给构造函数，来创建一个3*4的权重矩阵"
   ]
  },
  {
   "cell_type": "code",
   "execution_count": 8,
   "id": "5f1c2125",
   "metadata": {},
   "outputs": [],
   "source": [
    "fc.weight = nn.Parameter(weight_matrix)     #pytorch模块的权值必须是参数"
   ]
  },
  {
   "cell_type": "code",
   "execution_count": 9,
   "id": "a434bef3",
   "metadata": {},
   "outputs": [
    {
     "data": {
      "text/plain": [
       "tensor([29.5902, 40.1510, 49.5504], grad_fn=<AddBackward0>)"
      ]
     },
     "execution_count": 9,
     "metadata": {},
     "output_type": "execute_result"
    }
   ],
   "source": [
    "fc(in_features)                             #pytorch创建一个权重矩阵,并使用随机的值来初始化它\n",
    "                                          #并不是精确值，因为线性层在输出中增加了一个偏置张量若nn.Linear（......bias=Flase）则为精确值"
   ]
  },
  {
   "cell_type": "code",
   "execution_count": null,
   "id": "d6be3687",
   "metadata": {},
   "outputs": [],
   "source": [
    "###LAYER(INPUT)  \n",
    "\n",
    "\n",
    "### __CALL__(INPUT)  如果一个类实现了特殊的调用方法，每当调用对象实例时，都会调用特殊的调用方法（因为特殊的调用方法与我们的层和网络的前向方法相互作用）\n",
    "\n",
    "\n",
    "###FORWARD（INPUT）\n",
    "\n",
    "\n",
    "###以下步骤适用于所有pytorch神经网络模块\n",
    "#我们不直接调用前向方法（FORWARD（INPUT）），而是调用对象实例（LAYER(INPUT)），在调用对象实例之后，调用方法在pytorch下调用(__CALL__(INPUT)),而调用方法反过来调用我们的前向方法（（FORWARD（INPUT））"
   ]
  }
 ],
 "metadata": {
  "kernelspec": {
   "display_name": "Python [conda env:py38] *",
   "language": "python",
   "name": "conda-env-py38-py"
  },
  "language_info": {
   "codemirror_mode": {
    "name": "ipython",
    "version": 3
   },
   "file_extension": ".py",
   "mimetype": "text/x-python",
   "name": "python",
   "nbconvert_exporter": "python",
   "pygments_lexer": "ipython3",
   "version": "3.8.10"
  }
 },
 "nbformat": 4,
 "nbformat_minor": 5
}
