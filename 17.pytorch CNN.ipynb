{
 "cells": [
  {
   "cell_type": "code",
   "execution_count": 1,
   "id": "9a14281e",
   "metadata": {},
   "outputs": [],
   "source": [
    "#Class 类就是一个实际对象的蓝图或描述，而Object 对象就是事物的本身\n",
    "\n",
    "#当我们创建一个object时，我们在类的实例中调用对象，一个给定的所有实列都有两个核心，第一种：方法（method），第二种：属性(attributes)\n",
    "#这些方法（method）代表代码，这些属性(attributes)代表数据\n",
    "#我们可以将属性用于描述对象的特征，方法用于描述对象的行为\n",
    "\n",
    "###对象是类的实例，类是对象的抽象"
   ]
  },
  {
   "cell_type": "code",
   "execution_count": 2,
   "id": "fae7be26",
   "metadata": {},
   "outputs": [],
   "source": [
    "                                     #例子：定义一个蜥蜴类，来演示如何封装代码和数据\n",
    "class Lizard:                        #声明类并指定类名，在这个例子中是蜥蜴\n",
    "    def __init__(self, name):        #定义了一个称为类构造函数的特殊方法：调用。当类的新实例被创建为这个指定构造函数的参数时，就会调用构造函数\n",
    "        self.name = name             #我们有一个self的参数和一个名为name的参数\n",
    "                                     #self参数：它使我们能够创建存储或封装在类的对象中的属性值，当我们调用这个构造函数或其他方法时需要用self来调用\n",
    "    def set_name(self, name):\n",
    "        self.name = name\n"
   ]
  },
  {
   "cell_type": "code",
   "execution_count": 3,
   "id": "3d91cfc3",
   "metadata": {},
   "outputs": [
    {
     "name": "stdout",
     "output_type": "stream",
     "text": [
      "deep\n"
     ]
    }
   ],
   "source": [
    "lizard = Lizard('deep')    #我们可以通过指定类的名称并传递构造函数参数来创建该类的对象实例\n",
    "print(lizard.name)"
   ]
  },
  {
   "cell_type": "code",
   "execution_count": 4,
   "id": "98e24d87",
   "metadata": {},
   "outputs": [
    {
     "name": "stdout",
     "output_type": "stream",
     "text": [
      "learning\n"
     ]
    }
   ],
   "source": [
    "lizard.set_name('learning')    #也可以调用set_name()方法通过传入一个新的名称来改变名称的值\n",
    "print(lizard.name)"
   ]
  },
  {
   "cell_type": "code",
   "execution_count": 5,
   "id": "1ffd0c99",
   "metadata": {},
   "outputs": [],
   "source": [
    "###总结\n",
    "\n",
    "#在一个object（对象）中，有两种东西：（1）有可以调用的函数，object(函数),括号里有参数，（2）如果没有括号的话，就是object.属性名"
   ]
  },
  {
   "cell_type": "code",
   "execution_count": 6,
   "id": "709e6017",
   "metadata": {},
   "outputs": [],
   "source": [
    "import torch.nn as nn  #神经网络的名称为nn，pytorch的神经网络库包含了帮助我们构造层的类\n",
    "                        #神经网络的每一层都是两个主要部分 ：第一个是变换（transform）第二个是权重（weights）的集合\n",
    "                        #面向对象的编程中，转换可能用代码表示，而权重的集合可能用数据表示"
   ]
  },
  {
   "cell_type": "code",
   "execution_count": 7,
   "id": "2252f523",
   "metadata": {},
   "outputs": [],
   "source": [
    "###在神经网络库的包里，有一个称为模块的特殊类，它是所有神经网络模块的母类，意味着所有的层和pytorch都继承了nn.Module\n",
    "\n",
    "###如果你扩展了这个类，你就得到了它的所有功能\n",
    "\n",
    "###pytorch中的nn.Module都有一个前向传播，所以在我们创建神经网络的构建层时，我们必须提供一个前向方法（forward method）的实现\n",
    "\n",
    "###前向方法就是实际的变换，当我们实现nn.module子类的前向方法时，我们通常用来自nn.functional的函数（提供前进功能时所需的网络操作）"
   ]
  },
  {
   "cell_type": "markdown",
   "id": "0b9a1332",
   "metadata": {},
   "source": [
    "# 总结：如何在pytorch中创建一个神经网络"
   ]
  },
  {
   "cell_type": "code",
   "execution_count": 8,
   "id": "d80de8a3",
   "metadata": {},
   "outputs": [],
   "source": [
    "##第一：创建一个神经网络类扩展神经网络模块基类nn.module\n",
    "##第二：在类构造函数中将网络层定义为属性\n",
    "##第三：使用网络层的属性以及nn.functional API 的操作"
   ]
  },
  {
   "cell_type": "code",
   "execution_count": 9,
   "id": "9673e510",
   "metadata": {},
   "outputs": [],
   "source": [
    "# class Network():\n",
    "#     def __init__(self):\n",
    "#         self.layer = None       #在构造函数时有一个虚拟层，并为前向函数提供一个虚拟实现\n",
    "    \n",
    "#     def forward(self,t):       #前向函数的实现采用张量t，并使用虚拟层对其进行转换， \n",
    "#         t = self.layer(t)\n",
    "#         return t"
   ]
  },
  {
   "cell_type": "code",
   "execution_count": 10,
   "id": "484849d8",
   "metadata": {},
   "outputs": [],
   "source": [
    "# class Network(nn.Module):                 #添加nn.Module\n",
    "#     def __init__(self):\n",
    "#         super(Network,self).__init()      #super()是继承父类，那么super().__init__()代表不用实例化就可以调用父类的__init__()方法来对子类进行初始化，那么这就相当于我们实例化了一个对象，那当然需要给super().__init__()指定它的参数了\n",
    "#         self.layer = None       \n",
    "    \n",
    "#     def forward(self,t):        \n",
    "#         t = self.layer(t)\n",
    "#         return t"
   ]
  },
  {
   "cell_type": "code",
   "execution_count": 11,
   "id": "af471894",
   "metadata": {},
   "outputs": [],
   "source": [
    "class Network(nn.Module):\n",
    "    def __init__(self):\n",
    "        super(Network,self).__init__()                   \n",
    "        self.conv1 = nn.Conv2d(in_channels=1, out_channels=6, kernel_size=5)      #5层定义为属性，每一层都有两个部分组成，一组权重和一个前向方法中定义的转换\n",
    "        self.conv2 = nn.Conv2d(in_channels=6, out_channels=12, kernel_size=5)     #两个卷积层conv1、conv2和三个线性层fc1、fc2、输出层\n",
    "        \n",
    "        self.fc1 = nn.Linear(in_features=12*4*4, out_features=120)               #在神经网络模块类中，pytorch可以跟踪每一层的权重张量\n",
    "        self.fc2 = nn.Linear(in_features=120, out_features= 60)                  #由于我们扩展了神经网络模块类，我们自动 继承 了这个功能\n",
    "        self.out = nn.Linear(in_features=60, out_features=10)                    #in_channels......这类为parameter(形数)，1、6......这类为argument（实参）\n",
    "        \n",
    "        \n",
    "        \n",
    "    def forward(self,t):        \n",
    "        # implement forward pass\n",
    "        return t"
   ]
  },
  {
   "cell_type": "code",
   "execution_count": 12,
   "id": "dd95c568",
   "metadata": {},
   "outputs": [
    {
     "data": {
      "text/plain": [
       "Network(\n",
       "  (conv1): Conv2d(1, 6, kernel_size=(5, 5), stride=(1, 1))\n",
       "  (conv2): Conv2d(6, 12, kernel_size=(5, 5), stride=(1, 1))\n",
       "  (fc1): Linear(in_features=192, out_features=120, bias=True)\n",
       "  (fc2): Linear(in_features=120, out_features=60, bias=True)\n",
       "  (out): Linear(in_features=60, out_features=10, bias=True)\n",
       ")"
      ]
     },
     "execution_count": 12,
     "metadata": {},
     "output_type": "execute_result"
    }
   ],
   "source": [
    "network = Network()\n",
    "network"
   ]
  },
  {
   "cell_type": "code",
   "execution_count": null,
   "id": "ec356376",
   "metadata": {},
   "outputs": [],
   "source": []
  }
 ],
 "metadata": {
  "kernelspec": {
   "display_name": "Python [conda env:py38] *",
   "language": "python",
   "name": "conda-env-py38-py"
  },
  "language_info": {
   "codemirror_mode": {
    "name": "ipython",
    "version": 3
   },
   "file_extension": ".py",
   "mimetype": "text/x-python",
   "name": "python",
   "nbconvert_exporter": "python",
   "pygments_lexer": "ipython3",
   "version": "3.8.10"
  }
 },
 "nbformat": 4,
 "nbformat_minor": 5
}
