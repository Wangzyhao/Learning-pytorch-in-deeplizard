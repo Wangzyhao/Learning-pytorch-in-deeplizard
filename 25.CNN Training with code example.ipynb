{
 "cells": [
  {
   "cell_type": "code",
   "execution_count": 1,
   "id": "387b1c2d",
   "metadata": {},
   "outputs": [],
   "source": [
    "###Training process\n",
    "\n",
    "#(1)get batch from the training set        从训练集中得到一批数据\n",
    "#（2）pass batch to network               把这批数据传递给网络\n",
    "#（3）calculate the loss                  计算损失（预测值跟真实值之间的差异）                                     #loss function \n",
    "#（4）calculate the gradient of the loss function and the network's weight    计算损失函数的梯度和网络的权值       #back propagation\n",
    "#(5)update the weights using the gradients to reduce the loss   更新权重，使用梯度来减少损失                       #optimization algorithm\n",
    "#(6) repeat steps 1-5 until one epoch is completed\n",
    "#(7)repeat steps 1-6 for as many epoches required to obtain the desired level of accuracy"
   ]
  },
  {
   "cell_type": "code",
   "execution_count": 2,
   "id": "62506c4e",
   "metadata": {},
   "outputs": [],
   "source": [
    "import torch\n",
    "import torch.nn as nn\n",
    "import torch.nn.functional as F\n",
    "\n",
    "import torch.optim as optim\n",
    "import torchvision\n",
    "import torchvision.transforms as transforms\n"
   ]
  },
  {
   "cell_type": "code",
   "execution_count": 3,
   "id": "13ed0699",
   "metadata": {},
   "outputs": [],
   "source": [
    "def get_num_correct(preds, labels):\n",
    "    return preds.argmax(dim=1).eq(labels).sum().item()    #item()的作用是取出单元素张量的元素值并返回该值，保持该元素类型不变。\n",
    "                                                         #由此可以看出使用item()函数取出的元素值的精度更高，所以在求损失函数等时我们一般用item（）"
   ]
  },
  {
   "cell_type": "code",
   "execution_count": 4,
   "id": "a92fe3f9",
   "metadata": {},
   "outputs": [],
   "source": [
    "class Network(nn.Module):\n",
    "    def __init__(self):\n",
    "        super(Network,self).__init__()    \n",
    "        self.conv1 = nn.Conv2d(in_channels=1, out_channels=6, kernel_size=5)\n",
    "        self.conv2 = nn.Conv2d(in_channels=6, out_channels=12, kernel_size=5)\n",
    "        \n",
    "        self.fc1 = nn.Linear(in_features=12*4*4, out_features=120)\n",
    "        self.fc2 = nn.Linear(in_features=120, out_features=60)\n",
    "        self.out = nn.Linear(in_features=60, out_features=10)\n",
    "        \n",
    "    def forward(self,t):\n",
    "        #(1)input layer\n",
    "        t = t   \n",
    "        \n",
    "        #(2)hidden conv layer\n",
    "        t = self.conv1(t)                       \n",
    "        t = F.relu(t)                           \n",
    "        t = F.max_pool2d(t, kernel_size=2, stride=2)   #只会使高度和宽度的维度下降\n",
    "        \n",
    "        #(3)hidden conv layer\n",
    "        t = self.conv2(t)                             \n",
    "        t = F.relu(t)                           \n",
    "        t = F.max_pool2d(t, kernel_size=2, stride=2)\n",
    "        \n",
    "        #(4)hidden linear layer\n",
    "        t = t.reshape(-1,12*4*4)       #-1表示系统自动计算对应的值\n",
    "        t = self.fc1(t)                \n",
    "        t = F.relu(t)\n",
    "        \n",
    "        #(5)hidden linear layer\n",
    "        t = self.fc2(t)\n",
    "        t = F.relu(t)\n",
    "        \n",
    "        #(6)output layer\n",
    "        t = self.out(t)\n",
    "        #t = F.softmax(t,dim=1)             \n",
    "                                            \n",
    "        return t"
   ]
  },
  {
   "cell_type": "code",
   "execution_count": 5,
   "id": "11b2c138",
   "metadata": {},
   "outputs": [],
   "source": [
    "train_set = torchvision.datasets.FashionMNIST(\n",
    "    root = 'data/FashionMNIST',\n",
    "    train = True,\n",
    "    download = True,\n",
    "    transform = transforms.Compose([              #torchvision.transforms是pytorch中的图像预处理包。一般用Compose把多个步骤整合到一起\n",
    "        transforms.ToTensor()\n",
    "    ])\n",
    ")"
   ]
  },
  {
   "cell_type": "code",
   "execution_count": 6,
   "id": "621e7aa2",
   "metadata": {},
   "outputs": [],
   "source": [
    "network = Network()"
   ]
  },
  {
   "cell_type": "code",
   "execution_count": 7,
   "id": "68863f3c",
   "metadata": {},
   "outputs": [],
   "source": [
    "train_loader = torch.utils.data.DataLoader(\n",
    "    dataset = train_set,\n",
    "    batch_size = 100\n",
    ")\n",
    "batch = next(iter(train_loader))     #从训练加载器中抽出一批，然后从该批处理中打开图像和标签\n",
    "images, labels = batch"
   ]
  },
  {
   "cell_type": "markdown",
   "id": "e2bedce6",
   "metadata": {},
   "source": [
    "# 计算损失"
   ]
  },
  {
   "cell_type": "code",
   "execution_count": 8,
   "id": "cf4ef649",
   "metadata": {},
   "outputs": [
    {
     "data": {
      "text/plain": [
       "2.2871532440185547"
      ]
     },
     "execution_count": 8,
     "metadata": {},
     "output_type": "execute_result"
    }
   ],
   "source": [
    "preds = network(images)\n",
    "loss = F.cross_entropy(preds, labels)\n",
    "loss.item()"
   ]
  },
  {
   "cell_type": "markdown",
   "id": "a0b06e12",
   "metadata": {},
   "source": [
    "# 计算梯度"
   ]
  },
  {
   "cell_type": "code",
   "execution_count": 9,
   "id": "f2ab0bff",
   "metadata": {},
   "outputs": [
    {
     "name": "stdout",
     "output_type": "stream",
     "text": [
      "None\n"
     ]
    }
   ],
   "source": [
    "print(network.conv1.weight.grad)        #在损失张量上调用反向传播函数，这将计算我们的梯度"
   ]
  },
  {
   "cell_type": "code",
   "execution_count": 10,
   "id": "101faaa7",
   "metadata": {},
   "outputs": [],
   "source": [
    "loss.backward()                         #准备在最后一个张量上运行一个反向函数，计算梯度"
   ]
  },
  {
   "cell_type": "code",
   "execution_count": 11,
   "id": "49de6c1d",
   "metadata": {
    "scrolled": true
   },
   "outputs": [
    {
     "data": {
      "text/plain": [
       "torch.Size([6, 1, 5, 5])"
      ]
     },
     "execution_count": 11,
     "metadata": {},
     "output_type": "execute_result"
    }
   ],
   "source": [
    "network.conv1.weight.grad.shape         #梯度在grad属性中已经更新，检查这个权重张量和第一个卷积层的grad属性"
   ]
  },
  {
   "cell_type": "markdown",
   "id": "34480ed1",
   "metadata": {},
   "source": [
    "# 更新权重"
   ]
  },
  {
   "cell_type": "code",
   "execution_count": 12,
   "id": "a4d28477",
   "metadata": {},
   "outputs": [],
   "source": [
    "optimizer = optim.Adam(network.parameters(), lr=0.01)                #使用这些梯度，更新网络的权重"
   ]
  },
  {
   "cell_type": "code",
   "execution_count": 13,
   "id": "50ec77e7",
   "metadata": {},
   "outputs": [
    {
     "data": {
      "text/plain": [
       "2.2871532440185547"
      ]
     },
     "execution_count": 13,
     "metadata": {},
     "output_type": "execute_result"
    }
   ],
   "source": [
    "loss.item()"
   ]
  },
  {
   "cell_type": "code",
   "execution_count": 14,
   "id": "15d599e3",
   "metadata": {},
   "outputs": [
    {
     "data": {
      "text/plain": [
       "14"
      ]
     },
     "execution_count": 14,
     "metadata": {},
     "output_type": "execute_result"
    }
   ],
   "source": [
    "get_num_correct(preds, labels)           #检查正确的预测数：14"
   ]
  },
  {
   "cell_type": "code",
   "execution_count": 15,
   "id": "2b076e64",
   "metadata": {},
   "outputs": [],
   "source": [
    "optimizer.step()              #更新权重"
   ]
  },
  {
   "cell_type": "code",
   "execution_count": 16,
   "id": "632ede3b",
   "metadata": {},
   "outputs": [],
   "source": [
    "preds = network(images)\n",
    "loss = F.cross_entropy(preds, labels)"
   ]
  },
  {
   "cell_type": "code",
   "execution_count": 17,
   "id": "b00b53ee",
   "metadata": {},
   "outputs": [
    {
     "data": {
      "text/plain": [
       "2.2663586139678955"
      ]
     },
     "execution_count": 17,
     "metadata": {},
     "output_type": "execute_result"
    }
   ],
   "source": [
    "loss.item()"
   ]
  },
  {
   "cell_type": "code",
   "execution_count": 18,
   "id": "11bb823c",
   "metadata": {},
   "outputs": [
    {
     "data": {
      "text/plain": [
       "15"
      ]
     },
     "execution_count": 18,
     "metadata": {},
     "output_type": "execute_result"
    }
   ],
   "source": [
    "get_num_correct(preds, labels)"
   ]
  },
  {
   "cell_type": "markdown",
   "id": "cf7c14ab",
   "metadata": {},
   "source": [
    "# Training with a single batch"
   ]
  },
  {
   "cell_type": "code",
   "execution_count": 20,
   "id": "2c73e006",
   "metadata": {},
   "outputs": [
    {
     "name": "stdout",
     "output_type": "stream",
     "text": [
      "loss1: 2.294409990310669\n",
      "loss2: 2.261218309402466\n"
     ]
    }
   ],
   "source": [
    "network = Network()                                                    #(创建一个网络实例\n",
    "\n",
    "train_loader = torch.utils.data.DataLoader(train_set, batch_size=100)   #通过传递训练集并指定批处理大小来创建一个数据加载器\n",
    "optimizer = optim.Adam(network.parameters(), lr=0.01)                  #优化设置好（优化器，优化类型）\n",
    "\n",
    "batch = next(iter(train_loader))                                       #使用数据加载器来获得一批数据\n",
    "images, labels = batch                                                 #然后把他解压成图像和标签张量\n",
    "\n",
    "preds = network(images)                                                #把图像传递给网络后，得到一个预测张量\n",
    "loss = F.cross_entropy(preds, labels)                                  #计算损失，并给我们一个损失张量，其意义在于张量的对象包含了所有需要的信息\n",
    "\n",
    "loss.backward()                                                        #利用反向传播计算网络权重的梯度\n",
    "optimizer.step()                                                       #优化器更新权重\n",
    "\n",
    "#-------------------------------------------                          \n",
    "\n",
    "print('loss1:',loss.item())\n",
    "preds = network(images)\n",
    "loss = F.cross_entropy(preds, labels)   \n",
    "print('loss2:',loss.item())"
   ]
  },
  {
   "cell_type": "code",
   "execution_count": null,
   "id": "ee115c5b",
   "metadata": {},
   "outputs": [],
   "source": []
  }
 ],
 "metadata": {
  "kernelspec": {
   "display_name": "Python [conda env:py38] *",
   "language": "python",
   "name": "conda-env-py38-py"
  },
  "language_info": {
   "codemirror_mode": {
    "name": "ipython",
    "version": 3
   },
   "file_extension": ".py",
   "mimetype": "text/x-python",
   "name": "python",
   "nbconvert_exporter": "python",
   "pygments_lexer": "ipython3",
   "version": "3.8.10"
  }
 },
 "nbformat": 4,
 "nbformat_minor": 5
}
