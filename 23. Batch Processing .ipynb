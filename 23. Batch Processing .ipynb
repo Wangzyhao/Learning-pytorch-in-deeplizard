{
 "cells": [
  {
   "cell_type": "code",
   "execution_count": 1,
   "id": "795df194",
   "metadata": {},
   "outputs": [],
   "source": [
    "import torch\n",
    "import torch.nn as nn\n",
    "import torch.nn.functional as F\n",
    "\n",
    "import torchvision\n",
    "import torchvision.transforms as transforms\n",
    "\n"
   ]
  },
  {
   "cell_type": "code",
   "execution_count": 2,
   "id": "fdf16d5d",
   "metadata": {},
   "outputs": [
    {
     "name": "stdout",
     "output_type": "stream",
     "text": [
      "1.8.1+cu111\n",
      "0.9.1+cu111\n"
     ]
    }
   ],
   "source": [
    "print(torch.__version__)\n",
    "print(torchvision.__version__)"
   ]
  },
  {
   "cell_type": "code",
   "execution_count": 3,
   "id": "4b30f1f0",
   "metadata": {},
   "outputs": [],
   "source": [
    "train_set = torchvision.datasets.FashionMNIST(\n",
    "    root = 'data/FashionMNIST/',\n",
    "    train = True,\n",
    "    download = True,\n",
    "    transform = transforms.Compose([\n",
    "        transforms.ToTensor()\n",
    "    ])\n",
    ")"
   ]
  },
  {
   "cell_type": "code",
   "execution_count": 4,
   "id": "69687349",
   "metadata": {},
   "outputs": [],
   "source": [
    "class Network(nn.Module): \n",
    "    def __init__(self):                                                                \n",
    "        super(Network,self).__init__()\n",
    "        self.conv1 = nn.Conv2d(in_channels=1, out_channels=6, kernel_size=5)\n",
    "        self.conv2 = nn.Conv2d(in_channels=6, out_channels=12, kernel_size=5)\n",
    "        \n",
    "        self.fc1 = nn.Linear(in_features=12*4*4, out_features=120)\n",
    "        self.fc2 = nn.Linear(in_features=120, out_features=60)\n",
    "        self.out = nn.Linear(in_features=60, out_features=10)\n",
    "        \n",
    "    def forward(self,t):\n",
    "        t = F.relu(self.conv1(t))                          #简洁书写，将卷积与relu结合在一起\n",
    "        t = F.max_pool2d(t,kernel_size=2,stride=2)     \n",
    "        \n",
    "        t = F.relu(self.conv2(t))\n",
    "        t = F.max_pool2d(t,kernel_size=2,stride=2)\n",
    "        \n",
    "        t = F.relu(self.fc1(t.reshape(-1,12*4*4)))\n",
    "        t = F.relu(self.fc2(t))\n",
    "        t = self.out(t)\n",
    "        \n",
    "        return t "
   ]
  },
  {
   "cell_type": "code",
   "execution_count": 5,
   "id": "1e992468",
   "metadata": {},
   "outputs": [],
   "source": [
    "data_loader =torch.utils.data.DataLoader(\n",
    "    dataset = train_set,\n",
    "    batch_size = 10\n",
    ")"
   ]
  },
  {
   "cell_type": "code",
   "execution_count": 6,
   "id": "0117b27c",
   "metadata": {},
   "outputs": [],
   "source": [
    "batch = next(iter(data_loader))"
   ]
  },
  {
   "cell_type": "code",
   "execution_count": 7,
   "id": "62137a7f",
   "metadata": {},
   "outputs": [],
   "source": [
    "images,labels = batch"
   ]
  },
  {
   "cell_type": "code",
   "execution_count": 8,
   "id": "aac8b878",
   "metadata": {},
   "outputs": [
    {
     "data": {
      "text/plain": [
       "torch.Size([10, 1, 28, 28])"
      ]
     },
     "execution_count": 8,
     "metadata": {},
     "output_type": "execute_result"
    }
   ],
   "source": [
    "images.shape"
   ]
  },
  {
   "cell_type": "code",
   "execution_count": 9,
   "id": "68ccdb31",
   "metadata": {},
   "outputs": [
    {
     "data": {
      "text/plain": [
       "torch.Size([10])"
      ]
     },
     "execution_count": 9,
     "metadata": {},
     "output_type": "execute_result"
    }
   ],
   "source": [
    "labels.shape"
   ]
  },
  {
   "cell_type": "code",
   "execution_count": 10,
   "id": "198ed54a",
   "metadata": {},
   "outputs": [],
   "source": [
    "network =Network()\n",
    "preds = network(images)    #通过图像张量传递给网络来得到一个预测"
   ]
  },
  {
   "cell_type": "code",
   "execution_count": 11,
   "id": "4069456a",
   "metadata": {},
   "outputs": [
    {
     "data": {
      "text/plain": [
       "torch.Size([10, 10])"
      ]
     },
     "execution_count": 11,
     "metadata": {},
     "output_type": "execute_result"
    }
   ],
   "source": [
    "preds.shape"
   ]
  },
  {
   "cell_type": "code",
   "execution_count": 12,
   "id": "1f7ff0a5",
   "metadata": {},
   "outputs": [
    {
     "data": {
      "text/plain": [
       "tensor([[ 0.0806,  0.1091,  0.1149,  0.0842,  0.0857, -0.0113,  0.0329,  0.1492,\n",
       "         -0.0322,  0.0383],\n",
       "        [ 0.0785,  0.1127,  0.1178,  0.0863,  0.0906, -0.0102,  0.0311,  0.1514,\n",
       "         -0.0374,  0.0397],\n",
       "        [ 0.0844,  0.1090,  0.1176,  0.0829,  0.0863, -0.0105,  0.0348,  0.1477,\n",
       "         -0.0334,  0.0351],\n",
       "        [ 0.0831,  0.1106,  0.1174,  0.0860,  0.0874, -0.0084,  0.0340,  0.1499,\n",
       "         -0.0360,  0.0362],\n",
       "        [ 0.0845,  0.1091,  0.1195,  0.0852,  0.0929, -0.0112,  0.0393,  0.1526,\n",
       "         -0.0403,  0.0411],\n",
       "        [ 0.0796,  0.1095,  0.1177,  0.0892,  0.0889, -0.0153,  0.0339,  0.1552,\n",
       "         -0.0357,  0.0409],\n",
       "        [ 0.0759,  0.1070,  0.1233,  0.0873,  0.0843, -0.0100,  0.0319,  0.1462,\n",
       "         -0.0364,  0.0341],\n",
       "        [ 0.0887,  0.1082,  0.1230,  0.0897,  0.0864, -0.0160,  0.0428,  0.1536,\n",
       "         -0.0335,  0.0410],\n",
       "        [ 0.0809,  0.1042,  0.1192,  0.0814,  0.0872, -0.0056,  0.0310,  0.1464,\n",
       "         -0.0350,  0.0348],\n",
       "        [ 0.0806,  0.1052,  0.1193,  0.0830,  0.0871, -0.0065,  0.0307,  0.1471,\n",
       "         -0.0401,  0.0302]], grad_fn=<AddmmBackward>)"
      ]
     },
     "execution_count": 12,
     "metadata": {},
     "output_type": "execute_result"
    }
   ],
   "source": [
    "preds                       #对于这10个图象，我们有10分割预测类，第一个数组的元素表示对应的每个类别的10个预测"
   ]
  },
  {
   "cell_type": "code",
   "execution_count": 13,
   "id": "48655bd6",
   "metadata": {},
   "outputs": [
    {
     "data": {
      "text/plain": [
       "tensor([7, 7, 7, 7, 7, 7, 7, 7, 7, 7])"
      ]
     },
     "execution_count": 13,
     "metadata": {},
     "output_type": "execute_result"
    }
   ],
   "source": [
    "preds.argmax(dim=1)"
   ]
  },
  {
   "cell_type": "code",
   "execution_count": 14,
   "id": "b9e514b4",
   "metadata": {},
   "outputs": [
    {
     "data": {
      "text/plain": [
       "tensor([9, 0, 0, 3, 0, 2, 7, 2, 5, 5])"
      ]
     },
     "execution_count": 14,
     "metadata": {},
     "output_type": "execute_result"
    }
   ],
   "source": [
    "labels"
   ]
  },
  {
   "cell_type": "code",
   "execution_count": 15,
   "id": "d1d329e9",
   "metadata": {},
   "outputs": [
    {
     "data": {
      "text/plain": [
       "tensor([False, False, False, False, False, False,  True, False, False, False])"
      ]
     },
     "execution_count": 15,
     "metadata": {},
     "output_type": "execute_result"
    }
   ],
   "source": [
    "preds.argmax(dim=1).eq(labels)   ###eq()判断是否等于\n"
   ]
  },
  {
   "cell_type": "code",
   "execution_count": 16,
   "id": "e5c9b7b9",
   "metadata": {},
   "outputs": [
    {
     "data": {
      "text/plain": [
       "tensor(1)"
      ]
     },
     "execution_count": 16,
     "metadata": {},
     "output_type": "execute_result"
    }
   ],
   "source": [
    "preds.argmax(dim=1).eq(labels).sum()"
   ]
  },
  {
   "cell_type": "code",
   "execution_count": null,
   "id": "c2e807fb",
   "metadata": {},
   "outputs": [],
   "source": []
  }
 ],
 "metadata": {
  "kernelspec": {
   "display_name": "Python [conda env:py38] *",
   "language": "python",
   "name": "conda-env-py38-py"
  },
  "language_info": {
   "codemirror_mode": {
    "name": "ipython",
    "version": 3
   },
   "file_extension": ".py",
   "mimetype": "text/x-python",
   "name": "python",
   "nbconvert_exporter": "python",
   "pygments_lexer": "ipython3",
   "version": "3.8.10"
  }
 },
 "nbformat": 4,
 "nbformat_minor": 5
}
