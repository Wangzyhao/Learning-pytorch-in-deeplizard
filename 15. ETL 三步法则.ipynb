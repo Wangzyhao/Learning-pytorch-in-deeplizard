{
 "cells": [
  {
   "cell_type": "code",
   "execution_count": 1,
   "id": "d88d1524",
   "metadata": {},
   "outputs": [],
   "source": [
    "import torch\n",
    "import torchvision\n",
    "import torchvision.transforms as transforms"
   ]
  },
  {
   "cell_type": "code",
   "execution_count": 2,
   "id": "b5d3e2cc",
   "metadata": {
    "scrolled": true
   },
   "outputs": [],
   "source": [
    "train_set = torchvision.datasets.FashionMNIST(\n",
    "    root = 'data/FashionMNIST',                        #路径，硬盘上的位置\n",
    "    train = True,                                      #告诉我们想要作为数据集\n",
    "    download = True,                                   #如果没有出现在指定的根目录下，就可以下载这些数据\n",
    "    transform = transforms.Compose([                   #变换参数，内置ToTensor函数将图像转化成张量\n",
    "        transforms.ToTensor()\n",
    "    ])\n",
    "    \n",
    ")\n",
    "#遵循Extract、Transform、Load 三步原则（ETL任务）"
   ]
  },
  {
   "cell_type": "code",
   "execution_count": 3,
   "id": "a9037957",
   "metadata": {},
   "outputs": [],
   "source": [
    "train_loader = torch.utils.data.DataLoader(train_set)  \n",
    "#把训练集作为一个论证，将数据加载器对象实例中封装数据，现在我们可以利用加载器来完成一些任务，否则这些任务将会很复杂\n",
    "\n",
    "#数据加载器可以使我们能够访问数据并提供查询功能\n",
    "\n",
    "\n",
    "###作用：torch.utils.data.DataLoader 主要是对数据进行 batch 的划分。\n",
    "#数据加载器，结合了数据集和取样器，并且可以提供多个线程处理数据集。\n",
    "\n",
    "#在训练模型时使用到此函数，用来 把训练数据分成多个小组 ，此函数 每次抛出一组数据 。直至把所有的数据都抛出。就是做一个数据的初始化。\n",
    "\n",
    "#好处：使用DataLoader的好处是，可以快速的迭代数据。\n",
    "\n",
    "#用于生成迭代数据非常方便。\n",
    "\n",
    "#注意：\n",
    "#除此之外，特别要注意的是输入进函数的数据一定得是可迭代的。如果是自定的数据集的话可以在定义类中用def__len__、def__getitem__定义。\n",
    "\n"
   ]
  },
  {
   "cell_type": "code",
   "execution_count": 4,
   "id": "7cccb59f",
   "metadata": {},
   "outputs": [],
   "source": [
    "###torchvision是pytorch的一个图形库，它服务于PyTorch深度学习框架的，主要用来构建计算机视觉模型。以下是torchvision的构成：\n",
    "#torchvision.datasets: 一些加载数据的函数及常用的数据集接口；\n",
    "#torchvision.models: 包含常用的模型结构（含预训练模型），例如AlexNet、VGG、ResNet等；\n",
    "#torchvision.transforms: 常用的图片变换，例如裁剪、旋转等；\n",
    "#torchvision.utils: 其他的一些有用的方法。\n",
    "\n",
    "#ToTensor()将shape为(H, W, C)的nump.ndarray或img转为shape为(C, H, W)的tensor，其将每一个数值归一化到[0,1]，其归一化方法比较简单，直接除以255即可"
   ]
  },
  {
   "cell_type": "code",
   "execution_count": null,
   "id": "55be788b",
   "metadata": {},
   "outputs": [],
   "source": [
    "#####【PyTorch】Tensor和tensor的区别\n",
    "\n",
    "\n",
    "#首先，我们需要明确一下，torch.Tensor()是python类，更明确地说，是默认张量类型torch.FloatTensor()的别名，torch.Tensor([1,2])会调用Tensor类的构造函数__init__，生成单精度浮点类型的张量。\n",
    "\n",
    "\n",
    "#torch.tensor()仅仅是python函数,torch.tensor(data, dtype=None, device=None, requires_grad=False)其中data可以是：list, tuple, NumPy ndarray, scalar和其他类型。\n",
    "\n",
    "#torch.tensor会从data中的数据部分做拷贝（而不是直接引用），根据原始数据类型生成相应的torch.LongTensor、torch.FloatTensor和torch.DoubleTensor。\n"
   ]
  }
 ],
 "metadata": {
  "kernelspec": {
   "display_name": "Python [conda env:py38] *",
   "language": "python",
   "name": "conda-env-py38-py"
  },
  "language_info": {
   "codemirror_mode": {
    "name": "ipython",
    "version": 3
   },
   "file_extension": ".py",
   "mimetype": "text/x-python",
   "name": "python",
   "nbconvert_exporter": "python",
   "pygments_lexer": "ipython3",
   "version": "3.8.10"
  }
 },
 "nbformat": 4,
 "nbformat_minor": 5
}
