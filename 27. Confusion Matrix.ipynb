{
 "cells": [
  {
   "cell_type": "code",
   "execution_count": 1,
   "id": "ccab33c2",
   "metadata": {},
   "outputs": [],
   "source": [
    "import torch\n",
    "import torch.nn as nn\n",
    "import torch.nn.functional as F\n",
    "\n",
    "import torch.optim as optim\n",
    "import torchvision\n",
    "import torchvision.transforms as transforms\n"
   ]
  },
  {
   "cell_type": "code",
   "execution_count": 2,
   "id": "02f822fb",
   "metadata": {},
   "outputs": [],
   "source": [
    "class Network(nn.Module): \n",
    "    def __init__(self):                                                                \n",
    "        super(Network,self).__init__()\n",
    "        self.conv1 = nn.Conv2d(in_channels=1, out_channels=6, kernel_size=5)\n",
    "        self.conv2 = nn.Conv2d(in_channels=6, out_channels=12, kernel_size=5)\n",
    "        \n",
    "        self.fc1 = nn.Linear(in_features=12*4*4, out_features=120)\n",
    "        self.fc2 = nn.Linear(in_features=120, out_features=60)\n",
    "        self.out = nn.Linear(in_features=60, out_features=10)\n",
    "        \n",
    "    def forward(self,t):\n",
    "        t = F.relu(self.conv1(t))                          #简洁书写，将卷积与relu结合在一起\n",
    "        t = F.max_pool2d(t,kernel_size=2,stride=2)     \n",
    "        \n",
    "        t = F.relu(self.conv2(t))\n",
    "        t = F.max_pool2d(t,kernel_size=2,stride=2)\n",
    "        \n",
    "        t = F.relu(self.fc1(t.reshape(-1,12*4*4)))\n",
    "        t = F.relu(self.fc2(t))\n",
    "        t = self.out(t)\n",
    "        \n",
    "        return t "
   ]
  },
  {
   "cell_type": "code",
   "execution_count": 3,
   "id": "53e7a0e9",
   "metadata": {},
   "outputs": [],
   "source": [
    "train_set = torchvision.datasets.FashionMNIST(\n",
    "    root = 'data/FashionMNIST',\n",
    "    train = True,\n",
    "    download = True,\n",
    "    transform = transforms.Compose([              #torchvision.transforms是pytorch中的图像预处理包。一般用Compose把多个步骤整合到一起\n",
    "        transforms.ToTensor()\n",
    "    ])\n",
    ")"
   ]
  },
  {
   "cell_type": "code",
   "execution_count": 4,
   "id": "f75ac3d9",
   "metadata": {},
   "outputs": [],
   "source": [
    "network = Network()                                                    \n",
    "\n",
    "train_loader = torch.utils.data.DataLoader(train_set, batch_size=100)   \n",
    "optimizer = optim.Adam(network.parameters(), lr=0.01)                  \n"
   ]
  },
  {
   "cell_type": "code",
   "execution_count": 5,
   "id": "ba81999f",
   "metadata": {},
   "outputs": [],
   "source": [
    "def get_all_preds(model, loader):\n",
    "    all_preds = torch.tensor([])\n",
    "    \n",
    "    for batch in loader:\n",
    "        images, labels = batch\n",
    "        \n",
    "        preds = model(images)\n",
    "        all_preds = torch.cat((all_preds,preds),dim=0)\n",
    "    return all_preds"
   ]
  },
  {
   "cell_type": "code",
   "execution_count": 6,
   "id": "44658b04",
   "metadata": {},
   "outputs": [],
   "source": [
    "prediction_loader = torch.utils.data.DataLoader(train_set,batch_size=10000)\n",
    "train_preds = get_all_preds(network, prediction_loader)"
   ]
  },
  {
   "cell_type": "code",
   "execution_count": 7,
   "id": "0ec7ac07",
   "metadata": {},
   "outputs": [
    {
     "data": {
      "text/plain": [
       "torch.Size([60000, 10])"
      ]
     },
     "execution_count": 7,
     "metadata": {},
     "output_type": "execute_result"
    }
   ],
   "source": [
    "train_preds.shape"
   ]
  },
  {
   "cell_type": "code",
   "execution_count": 8,
   "id": "98196181",
   "metadata": {},
   "outputs": [
    {
     "name": "stdout",
     "output_type": "stream",
     "text": [
      "True\n"
     ]
    }
   ],
   "source": [
    "print(train_preds.requires_grad)    #这意味着这个特定的张量需要pytorch的梯度跟踪性\n",
    "#requires_grad: 如果需要为张量计算梯度，则为True，否则为False。我们使用pytorch创建tensor时，可以指定requires_grad为True（默认为False），"
   ]
  },
  {
   "cell_type": "code",
   "execution_count": 9,
   "id": "d18e1647",
   "metadata": {},
   "outputs": [
    {
     "name": "stderr",
     "output_type": "stream",
     "text": [
      "<ipython-input-9-54316e76a7d0>:1: UserWarning: The .grad attribute of a Tensor that is not a leaf Tensor is being accessed. Its .grad attribute won't be populated during autograd.backward(). If you indeed want the gradient for a non-leaf Tensor, use .retain_grad() on the non-leaf Tensor. If you access the non-leaf Tensor by mistake, make sure you access the leaf Tensor instead. See github.com/pytorch/pytorch/pull/30531 for more informations.\n",
      "  train_preds.grad\n"
     ]
    }
   ],
   "source": [
    "train_preds.grad"
   ]
  },
  {
   "cell_type": "code",
   "execution_count": 10,
   "id": "37a12930",
   "metadata": {},
   "outputs": [
    {
     "data": {
      "text/plain": [
       "<CatBackward at 0x1ba2b670a60>"
      ]
     },
     "execution_count": 10,
     "metadata": {},
     "output_type": "execute_result"
    }
   ],
   "source": [
    "train_preds.grad_fn    #grad_fn： grad_fn用来记录变量是怎么来的，方便计算梯度，y = x*3,grad_fn记录了y由x计算的过程。\n",
    "###这个值是导致这个张量创造出来的函数"
   ]
  },
  {
   "cell_type": "code",
   "execution_count": 11,
   "id": "69d1de8b",
   "metadata": {},
   "outputs": [],
   "source": [
    "with torch.no_grad():             # 被torch.no_grad()包裹起来的部分不会被追踪梯度，虽然仍可以前向传播进行计算得到输出，但计算过程(grad_fn)不会被记录，也就不能反向传播更新参数。\n",
    "    prediction_loader = torch.utils.data.DataLoader(train_set,batch_size=10000)\n",
    "    train_preds = get_all_preds(network, prediction_loader)\n",
    "    \n",
    "#这是一个简单的例子说明pytorch在局部进行梯度跟踪"
   ]
  },
  {
   "cell_type": "code",
   "execution_count": 12,
   "id": "ad4a257c",
   "metadata": {},
   "outputs": [
    {
     "name": "stdout",
     "output_type": "stream",
     "text": [
      "False\n"
     ]
    }
   ],
   "source": [
    "print(train_preds.requires_grad) "
   ]
  },
  {
   "cell_type": "code",
   "execution_count": 13,
   "id": "8682bec5",
   "metadata": {},
   "outputs": [],
   "source": [
    "train_preds.grad         "
   ]
  },
  {
   "cell_type": "code",
   "execution_count": 14,
   "id": "2028c0bd",
   "metadata": {},
   "outputs": [],
   "source": [
    "train_preds.grad_fn       #因为没有做任何的反向传播"
   ]
  },
  {
   "cell_type": "code",
   "execution_count": 15,
   "id": "d56bb08d",
   "metadata": {},
   "outputs": [],
   "source": [
    "def get_num_correct(preds, labels):\n",
    "    return preds.argmax(dim=1).eq(labels).sum().item()"
   ]
  },
  {
   "cell_type": "code",
   "execution_count": 16,
   "id": "f8bfffee",
   "metadata": {},
   "outputs": [
    {
     "name": "stdout",
     "output_type": "stream",
     "text": [
      "total correct: 5987\n",
      "accuracy: 0.09978333333333333\n"
     ]
    }
   ],
   "source": [
    "preds_correct = get_num_correct(train_preds, train_set.targets)\n",
    "\n",
    "print('total correct:',preds_correct)\n",
    "print('accuracy:',preds_correct / len(train_set))"
   ]
  },
  {
   "cell_type": "markdown",
   "id": "b04fbd37",
   "metadata": {},
   "source": [
    "# 创建一个混淆矩阵"
   ]
  },
  {
   "cell_type": "code",
   "execution_count": 17,
   "id": "2b750c46",
   "metadata": {},
   "outputs": [],
   "source": [
    "#在机器学习领域，混淆矩阵（Confusion Matrix），又称为可能性矩阵或错误矩阵。混淆矩阵是可视化工具，特别用于监督学习，在无监督学习一般叫做匹配矩阵。\n",
    "#在图像精度评价中，主要用于比较分类结果和实际测得值，可以把分类结果的精度显示在一个混淆矩阵里面。"
   ]
  },
  {
   "cell_type": "code",
   "execution_count": 18,
   "id": "fd53ff8b",
   "metadata": {},
   "outputs": [
    {
     "data": {
      "text/plain": [
       "tensor([9, 0, 0,  ..., 3, 0, 5])"
      ]
     },
     "execution_count": 18,
     "metadata": {},
     "output_type": "execute_result"
    }
   ],
   "source": [
    "train_set.targets"
   ]
  },
  {
   "cell_type": "code",
   "execution_count": 19,
   "id": "d435cba8",
   "metadata": {},
   "outputs": [
    {
     "data": {
      "text/plain": [
       "tensor([2, 2, 2,  ..., 2, 2, 2])"
      ]
     },
     "execution_count": 19,
     "metadata": {},
     "output_type": "execute_result"
    }
   ],
   "source": [
    "train_preds.argmax(dim=1)"
   ]
  },
  {
   "cell_type": "code",
   "execution_count": 20,
   "id": "2445fd1f",
   "metadata": {},
   "outputs": [],
   "source": [
    "stacked = torch.stack(\n",
    "    (\n",
    "        train_set.targets,\n",
    "        train_preds.argmax(dim=1)\n",
    "    ),dim=1\n",
    ")"
   ]
  },
  {
   "cell_type": "code",
   "execution_count": 21,
   "id": "b86d1769",
   "metadata": {},
   "outputs": [
    {
     "data": {
      "text/plain": [
       "torch.Size([60000, 2])"
      ]
     },
     "execution_count": 21,
     "metadata": {},
     "output_type": "execute_result"
    }
   ],
   "source": [
    "stacked.shape"
   ]
  },
  {
   "cell_type": "code",
   "execution_count": 22,
   "id": "3d3fb98e",
   "metadata": {},
   "outputs": [
    {
     "data": {
      "text/plain": [
       "tensor([[9, 2],\n",
       "        [0, 2],\n",
       "        [0, 2],\n",
       "        ...,\n",
       "        [3, 2],\n",
       "        [0, 2],\n",
       "        [5, 2]])"
      ]
     },
     "execution_count": 22,
     "metadata": {},
     "output_type": "execute_result"
    }
   ],
   "source": [
    "stacked"
   ]
  },
  {
   "cell_type": "code",
   "execution_count": 23,
   "id": "59fea9ef",
   "metadata": {},
   "outputs": [
    {
     "data": {
      "text/plain": [
       "[9, 2]"
      ]
     },
     "execution_count": 23,
     "metadata": {},
     "output_type": "execute_result"
    }
   ],
   "source": [
    "stacked[0].tolist() #将其变成一个python列表"
   ]
  },
  {
   "cell_type": "code",
   "execution_count": 24,
   "id": "2c490052",
   "metadata": {
    "scrolled": true
   },
   "outputs": [
    {
     "data": {
      "text/plain": [
       "tensor([[0, 0, 0, 0, 0, 0, 0, 0, 0, 0],\n",
       "        [0, 0, 0, 0, 0, 0, 0, 0, 0, 0],\n",
       "        [0, 0, 0, 0, 0, 0, 0, 0, 0, 0],\n",
       "        [0, 0, 0, 0, 0, 0, 0, 0, 0, 0],\n",
       "        [0, 0, 0, 0, 0, 0, 0, 0, 0, 0],\n",
       "        [0, 0, 0, 0, 0, 0, 0, 0, 0, 0],\n",
       "        [0, 0, 0, 0, 0, 0, 0, 0, 0, 0],\n",
       "        [0, 0, 0, 0, 0, 0, 0, 0, 0, 0],\n",
       "        [0, 0, 0, 0, 0, 0, 0, 0, 0, 0],\n",
       "        [0, 0, 0, 0, 0, 0, 0, 0, 0, 0]], dtype=torch.int32)"
      ]
     },
     "execution_count": 24,
     "metadata": {},
     "output_type": "execute_result"
    }
   ],
   "source": [
    "cmt= torch.zeros(10,10,dtype=torch.int32)  #想要一个10*10的混淆矩阵先创建一个全0矩阵\n",
    "cmt"
   ]
  },
  {
   "cell_type": "code",
   "execution_count": 25,
   "id": "cf91f866",
   "metadata": {},
   "outputs": [],
   "source": [
    "j, k = stacked[0].tolist()"
   ]
  },
  {
   "cell_type": "code",
   "execution_count": 26,
   "id": "a4e5215d",
   "metadata": {},
   "outputs": [
    {
     "data": {
      "text/plain": [
       "9"
      ]
     },
     "execution_count": 26,
     "metadata": {},
     "output_type": "execute_result"
    }
   ],
   "source": [
    "j"
   ]
  },
  {
   "cell_type": "code",
   "execution_count": 27,
   "id": "03282cd4",
   "metadata": {},
   "outputs": [
    {
     "data": {
      "text/plain": [
       "2"
      ]
     },
     "execution_count": 27,
     "metadata": {},
     "output_type": "execute_result"
    }
   ],
   "source": [
    "k"
   ]
  },
  {
   "cell_type": "code",
   "execution_count": 28,
   "id": "c058740b",
   "metadata": {},
   "outputs": [],
   "source": [
    "for p in stacked:       #在这个for循环中，对于stack张量中的每一对，我们想要把这对变成j和k\n",
    "    tl, pl = p.tolist()\n",
    "    cmt[tl,pl] = cmt[tl,pl] + 1"
   ]
  },
  {
   "cell_type": "code",
   "execution_count": 29,
   "id": "f224f7c1",
   "metadata": {},
   "outputs": [
    {
     "data": {
      "text/plain": [
       "tensor([[   0,    0, 5998,    0,    0,    0,    0,    0,    0,    2],\n",
       "        [   0,    0, 5820,    0,    0,    0,    0,    0,    0,  180],\n",
       "        [   0,    0, 5987,    0,    0,    0,    0,    0,    0,   13],\n",
       "        [   0,    0, 5996,    0,    0,    0,    0,    0,    0,    4],\n",
       "        [   0,    0, 5999,    0,    0,    0,    0,    0,    0,    1],\n",
       "        [   0,    0, 5949,    0,    0,    0,    0,    0,    0,   51],\n",
       "        [   0,    0, 5996,    0,    0,    0,    0,    0,    0,    4],\n",
       "        [   0,    0, 5961,    0,    0,    0,    0,    0,    0,   39],\n",
       "        [   0,    0, 5984,    0,    0,    0,    0,    0,    0,   16],\n",
       "        [   0,    0, 6000,    0,    0,    0,    0,    0,    0,    0]],\n",
       "       dtype=torch.int32)"
      ]
     },
     "execution_count": 29,
     "metadata": {},
     "output_type": "execute_result"
    }
   ],
   "source": [
    "cmt         #在上一节的优化器情况下才会效果好"
   ]
  },
  {
   "cell_type": "markdown",
   "id": "550ee694",
   "metadata": {},
   "source": [
    "# 绘画一个混淆矩阵"
   ]
  },
  {
   "cell_type": "code",
   "execution_count": 31,
   "id": "f69e2e45",
   "metadata": {},
   "outputs": [],
   "source": [
    "import matplotlib.pyplot as plt\n",
    "from sklearn.metrics import confusion_matrix\n"
   ]
  },
  {
   "cell_type": "code",
   "execution_count": 34,
   "id": "668821c0",
   "metadata": {},
   "outputs": [],
   "source": [
    "from resources.plotcm import plot_confusion_matrix  "
   ]
  },
  {
   "cell_type": "code",
   "execution_count": 35,
   "id": "0ccb5b78",
   "metadata": {},
   "outputs": [
    {
     "name": "stdout",
     "output_type": "stream",
     "text": [
      "<class 'numpy.ndarray'>\n"
     ]
    },
    {
     "data": {
      "text/plain": [
       "array([[   0,    0, 5998,    0,    0,    0,    0,    0,    0,    2],\n",
       "       [   0,    0, 5820,    0,    0,    0,    0,    0,    0,  180],\n",
       "       [   0,    0, 5987,    0,    0,    0,    0,    0,    0,   13],\n",
       "       [   0,    0, 5996,    0,    0,    0,    0,    0,    0,    4],\n",
       "       [   0,    0, 5999,    0,    0,    0,    0,    0,    0,    1],\n",
       "       [   0,    0, 5949,    0,    0,    0,    0,    0,    0,   51],\n",
       "       [   0,    0, 5996,    0,    0,    0,    0,    0,    0,    4],\n",
       "       [   0,    0, 5961,    0,    0,    0,    0,    0,    0,   39],\n",
       "       [   0,    0, 5984,    0,    0,    0,    0,    0,    0,   16],\n",
       "       [   0,    0, 6000,    0,    0,    0,    0,    0,    0,    0]],\n",
       "      dtype=int64)"
      ]
     },
     "execution_count": 35,
     "metadata": {},
     "output_type": "execute_result"
    }
   ],
   "source": [
    "cm = confusion_matrix(train_set.targets, train_preds.argmax(dim=1))\n",
    "print(type(cm))\n",
    "cm"
   ]
  },
  {
   "cell_type": "code",
   "execution_count": 36,
   "id": "cb71b57d",
   "metadata": {},
   "outputs": [
    {
     "name": "stdout",
     "output_type": "stream",
     "text": [
      "Confusion matrix, without normalization\n",
      "[[   0    0 5998    0    0    0    0    0    0    2]\n",
      " [   0    0 5820    0    0    0    0    0    0  180]\n",
      " [   0    0 5987    0    0    0    0    0    0   13]\n",
      " [   0    0 5996    0    0    0    0    0    0    4]\n",
      " [   0    0 5999    0    0    0    0    0    0    1]\n",
      " [   0    0 5949    0    0    0    0    0    0   51]\n",
      " [   0    0 5996    0    0    0    0    0    0    4]\n",
      " [   0    0 5961    0    0    0    0    0    0   39]\n",
      " [   0    0 5984    0    0    0    0    0    0   16]\n",
      " [   0    0 6000    0    0    0    0    0    0    0]]\n"
     ]
    },
    {
     "data": {
      "image/png": "[encoded data removed]",
      "text/plain": [
       "<Figure size 720x720 with 2 Axes>"
      ]
     },
     "metadata": {
      "needs_background": "light"
     },
     "output_type": "display_data"
    }
   ],
   "source": [
    "names = (\n",
    "    'T-shirt/top'\n",
    "    ,'Trouser'\n",
    "    ,'Pullover'\n",
    "    ,'Dress'\n",
    "    ,'Coat'\n",
    "    ,'Sandal'\n",
    "    ,'Shirt'\n",
    "    ,'Sneaker'\n",
    "    ,'Bag'\n",
    "    ,'Ankle boot'\n",
    ")\n",
    "plt.figure(figsize=(10,10))\n",
    "plot_confusion_matrix(cm, names)\n"
   ]
  },
  {
   "cell_type": "code",
   "execution_count": null,
   "id": "a23eea92",
   "metadata": {},
   "outputs": [],
   "source": []
  }
 ],
 "metadata": {
  "kernelspec": {
   "display_name": "Python [conda env:py38] *",
   "language": "python",
   "name": "conda-env-py38-py"
  },
  "language_info": {
   "codemirror_mode": {
    "name": "ipython",
    "version": 3
   },
   "file_extension": ".py",
   "mimetype": "text/x-python",
   "name": "python",
   "nbconvert_exporter": "python",
   "pygments_lexer": "ipython3",
   "version": "3.8.10"
  }
 },
 "nbformat": 4,
 "nbformat_minor": 5
}
